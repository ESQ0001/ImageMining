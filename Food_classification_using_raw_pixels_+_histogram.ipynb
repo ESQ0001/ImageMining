{
  "nbformat": 4,
  "nbformat_minor": 0,
  "metadata": {
    "colab": {
      "name": "Food classification using raw pixels + histogram.ipynb",
      "provenance": [],
      "collapsed_sections": []
    },
    "kernelspec": {
      "name": "python3",
      "display_name": "Python 3"
    }
  },
  "cells": [
    {
      "cell_type": "code",
      "metadata": {
        "id": "02NNKsyirZ78",
        "colab_type": "code",
        "colab": {}
      },
      "source": [
        ""
      ],
      "execution_count": 0,
      "outputs": []
    },
    {
      "cell_type": "code",
      "metadata": {
        "id": "36rJCq-repWt",
        "colab_type": "code",
        "colab": {}
      },
      "source": [
        "# Convert images as vector to create partial dataset\n",
        "\n",
        "features = [(imread(filename)).flatten() for filename in df_part.File]\n",
        "features = np.array(features)\n",
        "y = df_part.label.values\n",
        "\n",
        "features.shape"
      ],
      "execution_count": 0,
      "outputs": []
    },
    {
      "cell_type": "code",
      "metadata": {
        "id": "wE4sOFl6epWx",
        "colab_type": "code",
        "colab": {}
      },
      "source": [
        "\n",
        "from sklearn.model_selection import train_test_split\n",
        "seed = 23\n",
        "\n",
        "# Split dataset\n",
        "X_train, X_test, y_train, y_test = train_test_split(features, y, test_size=0.20, random_state=seed)\n",
        "\n",
        "print('Training set shape: {}'.format(X_train.shape))\n",
        "print('Test set shape: {}'.format(X_test.shape))\n",
        "\n",
        "print(y_train[:5])"
      ],
      "execution_count": 0,
      "outputs": []
    },
    {
      "cell_type": "code",
      "metadata": {
        "id": "0z_TXhi9epW1",
        "colab_type": "code",
        "colab": {}
      },
      "source": [
        "# SVM model (support vector machine)\n",
        "# RF model (random forest)\n",
        "# DT model (decision tree)\n",
        "# NN model (neural network)\n",
        "# DNN model (deep neural network)\n",
        "# CNN model (convolutional neural network)\n",
        "\n",
        "from sklearn import svm\n",
        "from sklearn.metrics import accuracy_score\n",
        "from sklearn.metrics import plot_confusion_matrix\n",
        "from joblib import dump, load\n",
        "\n",
        "model = svm.SVC() # You can set the parameters\n",
        "model.fit(list(X_train), y_train) # Fitting the model\n",
        "\n",
        "dump(model, 'svm_model_pixels.joblib') # saving model\n",
        "model = load('svm_model_pixels.joblib') # loading model\n",
        "\n",
        "y_pred = model.predict(X_train) # Prediction on test set\n",
        "\n",
        "accuracy_train = accuracy_score(y_train, y_pred)\n",
        "\n",
        "print('Model accuracy in training set: {}'.format(accuracy_train))\n",
        "\n",
        "np.set_printoptions(precision=2)\n",
        "cm = plot_confusion_matrix(model, X_train, y_train,\n",
        "                           display_labels=np.unique(y),\n",
        "                           cmap=plt.cm.Blues, normalize=None)\n",
        "cm.ax_.set_title('Confusion Matrix')\n",
        "plt.show()\n",
        "\n",
        "y_pred = model.predict(X_test) # Prediction on test set\n",
        "\n",
        "accuracy_test = accuracy_score(y_test, y_pred)\n",
        "print('Model accuracy in test set: {}'.format(accuracy_test))\n",
        "\n",
        "np.set_printoptions(precision=2)\n",
        "cm = plot_confusion_matrix(model, X_test, y_test,\n",
        "                           display_labels=np.unique(y),\n",
        "                           cmap=plt.cm.Blues, normalize=None)\n",
        "cm.ax_.set_title('Confusion Matrix')\n",
        "plt.show()"
      ],
      "execution_count": 0,
      "outputs": []
    },
    {
      "cell_type": "code",
      "metadata": {
        "id": "xYtHz39wepW6",
        "colab_type": "code",
        "colab": {}
      },
      "source": [
        ""
      ],
      "execution_count": 0,
      "outputs": []
    }
  ]
}