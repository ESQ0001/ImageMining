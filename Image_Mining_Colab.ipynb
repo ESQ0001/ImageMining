{
  "nbformat": 4,
  "nbformat_minor": 0,
  "metadata": {
    "colab": {
      "name": "Image Mining-Colab.ipynb",
      "provenance": []
    },
    "kernelspec": {
      "name": "python3",
      "display_name": "Python 3"
    },
    "accelerator": "GPU"
  },
  "cells": [
    {
      "cell_type": "code",
      "metadata": {
        "id": "oyVHhNDy3kDi",
        "colab_type": "code",
        "colab": {
          "base_uri": "https://localhost:8080/",
          "height": 122
        },
        "outputId": "0e641aca-a932-4ca7-a545-7284c1768187"
      },
      "source": [
        "from google.colab import drive\n",
        "drive.mount('/content/drive')"
      ],
      "execution_count": 2,
      "outputs": [
        {
          "output_type": "stream",
          "text": [
            "Go to this URL in a browser: https://accounts.google.com/o/oauth2/auth?client_id=947318989803-6bn6qk8qdgf4n4g3pfee6491hc0brc4i.apps.googleusercontent.com&redirect_uri=urn%3aietf%3awg%3aoauth%3a2.0%3aoob&response_type=code&scope=email%20https%3a%2f%2fwww.googleapis.com%2fauth%2fdocs.test%20https%3a%2f%2fwww.googleapis.com%2fauth%2fdrive%20https%3a%2f%2fwww.googleapis.com%2fauth%2fdrive.photos.readonly%20https%3a%2f%2fwww.googleapis.com%2fauth%2fpeopleapi.readonly\n",
            "\n",
            "Enter your authorization code:\n",
            "··········\n",
            "Mounted at /content/drive\n"
          ],
          "name": "stdout"
        }
      ]
    },
    {
      "cell_type": "code",
      "metadata": {
        "id": "DswgbqU94wwk",
        "colab_type": "code",
        "outputId": "73903d97-0e9a-47f4-d80a-1ab1232af50d",
        "colab": {
          "base_uri": "https://localhost:8080/",
          "height": 36
        }
      },
      "source": [
        "import tensorflow as tf\n",
        "tf.test.gpu_device_name()"
      ],
      "execution_count": 0,
      "outputs": [
        {
          "output_type": "execute_result",
          "data": {
            "text/plain": [
              "'/device:GPU:0'"
            ]
          },
          "metadata": {
            "tags": []
          },
          "execution_count": 2
        }
      ]
    },
    {
      "cell_type": "code",
      "metadata": {
        "id": "RJiY4uR3401c",
        "colab_type": "code",
        "colab": {}
      },
      "source": [
        "#creating the dataset\n",
        "import numpy as np # conda install numpy -y\n",
        "import pandas as pd # conda install pandas -y\n",
        "import matplotlib.pyplot as plt # conda install matplotlib -y\n",
        "from skimage.io import imread # conda install scikit-image -y\n",
        "import os\n",
        "import csv\n"
      ],
      "execution_count": 0,
      "outputs": []
    },
    {
      "cell_type": "code",
      "metadata": {
        "id": "sEPd9UO9404Y",
        "colab_type": "code",
        "colab": {}
      },
      "source": [
        "def dataset1(path,label,outputFileName):\n",
        "    #function to create the first part of the dataset\n",
        "    #it returns as output a csv file with the name of the image,label\n",
        "    i=0\n",
        "    imgArray = []#array were we will store all our images\n",
        "    for root, dirs, files in os.walk(path):\n",
        "        if(i != 0):#here is where we change directory\n",
        "            print(\"CHANGED\")\n",
        "        prev_dir = root\n",
        "        \n",
        "        for file_ in files:\n",
        "\n",
        "            img = os.path.join(root, file_)\n",
        "            with open ('C:/Users/aecan/image_Mining/testImages-20200314T175026Z-001/'+outputFileName, 'a',newline = '') as file:\n",
        "                writer = csv.writer(file)\n",
        "                #print(path,file_)\n",
        "                #print(os.path.join(path, file_))\n",
        "               # print(file\n",
        "                print(root+file_)\n",
        "                writer.writerow([os.path.join(root, file_),label[i-1]])\n",
        "                ##change to  writer.writerow([os.path.join(root, file_),label[i-1]]) if you want just the name of the file\n",
        "            \n",
        "        \n",
        "           # print( os.path.join(root, file_),i )\n",
        "        i+=1\n",
        "    return #this is the X inX_train our dataset"
      ],
      "execution_count": 0,
      "outputs": []
    },
    {
      "cell_type": "code",
      "metadata": {
        "id": "gP3FlE8l_jhV",
        "colab_type": "code",
        "colab": {}
      },
      "source": [
        "#dataset1(\"C:/Users/aecan/image_Mining/testImages-20200314T175026Z-001/smallData\",label,\"s4.csv\")\n",
        "#df = pd.read_csv('C:/Users/aecan/image_Mining/testImages-20200314T175026Z-001/s4.csv',names=[\"File\",\"Food\"])"
      ],
      "execution_count": 0,
      "outputs": []
    },
    {
      "cell_type": "code",
      "metadata": {
        "id": "Zm9v_9L0408Y",
        "colab_type": "code",
        "colab": {}
      },
      "source": [
        "import cv2\n",
        "import PIL\n",
        "import os\n",
        "def resize_images(df):\n",
        "    #THIS FUNCTION RESIZES OUR IMAGES TO 150 * 150 PIXELS\n",
        "    for i in range(0,len(df)):\n",
        "      \n",
        "      filename= os.path.basename(df.loc[i].File)\n",
        "      if not(os.path.isfile(\"drive/My Drive/Colab Notebooks/resizedIms/\"+filename)):\n",
        "        print(\"ENTERING\")\n",
        "        image = PIL.Image.open(df.loc[i].File)\n",
        "        new_image = image.resize((150, 150))\n",
        "        #new_image.show()\n",
        "        print(image.filename)\n",
        "        filename= os.path.basename(df.loc[i].File)\n",
        "        #direct = \"drive/My Drive/Colab Notebooks/whole_food_datasetColab.csv/resizedIms\"+image.name+'.jpg'\n",
        "        new_image.save(\"drive/My Drive/Colab Notebooks/resizedIms/\"+filename)\n",
        "        #cv2.imwrite(direct, new_image) \n",
        "        \n",
        "    return"
      ],
      "execution_count": 0,
      "outputs": []
    },
    {
      "cell_type": "code",
      "metadata": {
        "id": "jN5h8nqn41Ai",
        "colab_type": "code",
        "outputId": "f208e5be-9084-4137-8919-16ca2732cba6",
        "colab": {
          "base_uri": "https://localhost:8080/",
          "height": 419
        }
      },
      "source": [
        "#resize_images(df2)\n",
        "df_whole = pd.read_csv(\"drive/My Drive/Colab Notebooks/whole_food_datasetColab.csv\")\n",
        "df_whole"
      ],
      "execution_count": 39,
      "outputs": [
        {
          "output_type": "execute_result",
          "data": {
            "text/html": [
              "<div>\n",
              "<style scoped>\n",
              "    .dataframe tbody tr th:only-of-type {\n",
              "        vertical-align: middle;\n",
              "    }\n",
              "\n",
              "    .dataframe tbody tr th {\n",
              "        vertical-align: top;\n",
              "    }\n",
              "\n",
              "    .dataframe thead th {\n",
              "        text-align: right;\n",
              "    }\n",
              "</style>\n",
              "<table border=\"1\" class=\"dataframe\">\n",
              "  <thead>\n",
              "    <tr style=\"text-align: right;\">\n",
              "      <th></th>\n",
              "      <th>File</th>\n",
              "      <th>Food</th>\n",
              "      <th>Serving</th>\n",
              "      <th>Calories</th>\n",
              "      <th>Total Fat</th>\n",
              "      <th>Cholesterol</th>\n",
              "      <th>Sodium</th>\n",
              "      <th>Protein</th>\n",
              "    </tr>\n",
              "  </thead>\n",
              "  <tbody>\n",
              "    <tr>\n",
              "      <th>0</th>\n",
              "      <td>drive/My Drive/Colab Notebooks/images/apple_pi...</td>\n",
              "      <td>Apple Pie</td>\n",
              "      <td>125g</td>\n",
              "      <td>296</td>\n",
              "      <td>14g</td>\n",
              "      <td>0</td>\n",
              "      <td>251mg</td>\n",
              "      <td>2.4g</td>\n",
              "    </tr>\n",
              "    <tr>\n",
              "      <th>1</th>\n",
              "      <td>drive/My Drive/Colab Notebooks/images/apple_pi...</td>\n",
              "      <td>Apple Pie</td>\n",
              "      <td>125g</td>\n",
              "      <td>296</td>\n",
              "      <td>14g</td>\n",
              "      <td>0</td>\n",
              "      <td>251mg</td>\n",
              "      <td>2.4g</td>\n",
              "    </tr>\n",
              "    <tr>\n",
              "      <th>2</th>\n",
              "      <td>drive/My Drive/Colab Notebooks/images/apple_pi...</td>\n",
              "      <td>Apple Pie</td>\n",
              "      <td>125g</td>\n",
              "      <td>296</td>\n",
              "      <td>14g</td>\n",
              "      <td>0</td>\n",
              "      <td>251mg</td>\n",
              "      <td>2.4g</td>\n",
              "    </tr>\n",
              "    <tr>\n",
              "      <th>3</th>\n",
              "      <td>drive/My Drive/Colab Notebooks/images/apple_pi...</td>\n",
              "      <td>Apple Pie</td>\n",
              "      <td>125g</td>\n",
              "      <td>296</td>\n",
              "      <td>14g</td>\n",
              "      <td>0</td>\n",
              "      <td>251mg</td>\n",
              "      <td>2.4g</td>\n",
              "    </tr>\n",
              "    <tr>\n",
              "      <th>4</th>\n",
              "      <td>drive/My Drive/Colab Notebooks/images/apple_pi...</td>\n",
              "      <td>Apple Pie</td>\n",
              "      <td>125g</td>\n",
              "      <td>296</td>\n",
              "      <td>14g</td>\n",
              "      <td>0</td>\n",
              "      <td>251mg</td>\n",
              "      <td>2.4g</td>\n",
              "    </tr>\n",
              "    <tr>\n",
              "      <th>...</th>\n",
              "      <td>...</td>\n",
              "      <td>...</td>\n",
              "      <td>...</td>\n",
              "      <td>...</td>\n",
              "      <td>...</td>\n",
              "      <td>...</td>\n",
              "      <td>...</td>\n",
              "      <td>...</td>\n",
              "    </tr>\n",
              "    <tr>\n",
              "      <th>99995</th>\n",
              "      <td>drive/My Drive/Colab Notebooks/images/waffles/...</td>\n",
              "      <td>Waffles</td>\n",
              "      <td>75g</td>\n",
              "      <td>218</td>\n",
              "      <td>11g</td>\n",
              "      <td>52mg</td>\n",
              "      <td>383mg</td>\n",
              "      <td>5.9g</td>\n",
              "    </tr>\n",
              "    <tr>\n",
              "      <th>99996</th>\n",
              "      <td>drive/My Drive/Colab Notebooks/images/waffles/...</td>\n",
              "      <td>Waffles</td>\n",
              "      <td>75g</td>\n",
              "      <td>218</td>\n",
              "      <td>11g</td>\n",
              "      <td>52mg</td>\n",
              "      <td>383mg</td>\n",
              "      <td>5.9g</td>\n",
              "    </tr>\n",
              "    <tr>\n",
              "      <th>99997</th>\n",
              "      <td>drive/My Drive/Colab Notebooks/images/waffles/...</td>\n",
              "      <td>Waffles</td>\n",
              "      <td>75g</td>\n",
              "      <td>218</td>\n",
              "      <td>11g</td>\n",
              "      <td>52mg</td>\n",
              "      <td>383mg</td>\n",
              "      <td>5.9g</td>\n",
              "    </tr>\n",
              "    <tr>\n",
              "      <th>99998</th>\n",
              "      <td>drive/My Drive/Colab Notebooks/images/waffles/...</td>\n",
              "      <td>Waffles</td>\n",
              "      <td>75g</td>\n",
              "      <td>218</td>\n",
              "      <td>11g</td>\n",
              "      <td>52mg</td>\n",
              "      <td>383mg</td>\n",
              "      <td>5.9g</td>\n",
              "    </tr>\n",
              "    <tr>\n",
              "      <th>99999</th>\n",
              "      <td>drive/My Drive/Colab Notebooks/images/waffles/...</td>\n",
              "      <td>Waffles</td>\n",
              "      <td>75g</td>\n",
              "      <td>218</td>\n",
              "      <td>11g</td>\n",
              "      <td>52mg</td>\n",
              "      <td>383mg</td>\n",
              "      <td>5.9g</td>\n",
              "    </tr>\n",
              "  </tbody>\n",
              "</table>\n",
              "<p>100000 rows × 8 columns</p>\n",
              "</div>"
            ],
            "text/plain": [
              "                                                    File  ... Protein\n",
              "0      drive/My Drive/Colab Notebooks/images/apple_pi...  ...    2.4g\n",
              "1      drive/My Drive/Colab Notebooks/images/apple_pi...  ...    2.4g\n",
              "2      drive/My Drive/Colab Notebooks/images/apple_pi...  ...    2.4g\n",
              "3      drive/My Drive/Colab Notebooks/images/apple_pi...  ...    2.4g\n",
              "4      drive/My Drive/Colab Notebooks/images/apple_pi...  ...    2.4g\n",
              "...                                                  ...  ...     ...\n",
              "99995  drive/My Drive/Colab Notebooks/images/waffles/...  ...    5.9g\n",
              "99996  drive/My Drive/Colab Notebooks/images/waffles/...  ...    5.9g\n",
              "99997  drive/My Drive/Colab Notebooks/images/waffles/...  ...    5.9g\n",
              "99998  drive/My Drive/Colab Notebooks/images/waffles/...  ...    5.9g\n",
              "99999  drive/My Drive/Colab Notebooks/images/waffles/...  ...    5.9g\n",
              "\n",
              "[100000 rows x 8 columns]"
            ]
          },
          "metadata": {
            "tags": []
          },
          "execution_count": 39
        }
      ]
    },
    {
      "cell_type": "code",
      "metadata": {
        "id": "bhdgTB8dAueQ",
        "colab_type": "code",
        "outputId": "0fb44d7d-a592-41ee-ac63-92509b6ba4dc",
        "colab": {
          "base_uri": "https://localhost:8080/",
          "height": 419
        }
      },
      "source": [
        "#classification using histogram as a feature\n",
        "from skimage import exposure, img_as_float # for histogram\n",
        "df_partial = pd.read_csv(\"drive/My Drive/Colab Notebooks/partial_dataset_GC.csv\",sep = \";\")\n",
        "df_partial"
      ],
      "execution_count": 4,
      "outputs": [
        {
          "output_type": "execute_result",
          "data": {
            "text/html": [
              "<div>\n",
              "<style scoped>\n",
              "    .dataframe tbody tr th:only-of-type {\n",
              "        vertical-align: middle;\n",
              "    }\n",
              "\n",
              "    .dataframe tbody tr th {\n",
              "        vertical-align: top;\n",
              "    }\n",
              "\n",
              "    .dataframe thead th {\n",
              "        text-align: right;\n",
              "    }\n",
              "</style>\n",
              "<table border=\"1\" class=\"dataframe\">\n",
              "  <thead>\n",
              "    <tr style=\"text-align: right;\">\n",
              "      <th></th>\n",
              "      <th>File</th>\n",
              "      <th>Food</th>\n",
              "      <th>Serving</th>\n",
              "      <th>Calories</th>\n",
              "      <th>Total Fat</th>\n",
              "      <th>Cholesterol</th>\n",
              "      <th>Sodium</th>\n",
              "      <th>Protein</th>\n",
              "    </tr>\n",
              "  </thead>\n",
              "  <tbody>\n",
              "    <tr>\n",
              "      <th>0</th>\n",
              "      <td>drive/My Drive/Colab Notebooks/resizedIms/1005...</td>\n",
              "      <td>Apple Pie</td>\n",
              "      <td>125g</td>\n",
              "      <td>296</td>\n",
              "      <td>14g</td>\n",
              "      <td>0</td>\n",
              "      <td>251mg</td>\n",
              "      <td>2.4g</td>\n",
              "    </tr>\n",
              "    <tr>\n",
              "      <th>1</th>\n",
              "      <td>drive/My Drive/Colab Notebooks/resizedIms/1011...</td>\n",
              "      <td>Apple Pie</td>\n",
              "      <td>125g</td>\n",
              "      <td>296</td>\n",
              "      <td>14g</td>\n",
              "      <td>0</td>\n",
              "      <td>251mg</td>\n",
              "      <td>2.4g</td>\n",
              "    </tr>\n",
              "    <tr>\n",
              "      <th>2</th>\n",
              "      <td>drive/My Drive/Colab Notebooks/resizedIms/1012...</td>\n",
              "      <td>Apple Pie</td>\n",
              "      <td>125g</td>\n",
              "      <td>296</td>\n",
              "      <td>14g</td>\n",
              "      <td>0</td>\n",
              "      <td>251mg</td>\n",
              "      <td>2.4g</td>\n",
              "    </tr>\n",
              "    <tr>\n",
              "      <th>3</th>\n",
              "      <td>drive/My Drive/Colab Notebooks/resizedIms/1014...</td>\n",
              "      <td>Apple Pie</td>\n",
              "      <td>125g</td>\n",
              "      <td>296</td>\n",
              "      <td>14g</td>\n",
              "      <td>0</td>\n",
              "      <td>251mg</td>\n",
              "      <td>2.4g</td>\n",
              "    </tr>\n",
              "    <tr>\n",
              "      <th>4</th>\n",
              "      <td>drive/My Drive/Colab Notebooks/resizedIms/1026...</td>\n",
              "      <td>Apple Pie</td>\n",
              "      <td>125g</td>\n",
              "      <td>296</td>\n",
              "      <td>14g</td>\n",
              "      <td>0</td>\n",
              "      <td>251mg</td>\n",
              "      <td>2.4g</td>\n",
              "    </tr>\n",
              "    <tr>\n",
              "      <th>...</th>\n",
              "      <td>...</td>\n",
              "      <td>...</td>\n",
              "      <td>...</td>\n",
              "      <td>...</td>\n",
              "      <td>...</td>\n",
              "      <td>...</td>\n",
              "      <td>...</td>\n",
              "      <td>...</td>\n",
              "    </tr>\n",
              "    <tr>\n",
              "      <th>5995</th>\n",
              "      <td>drive/My Drive/Colab Notebooks/resizedIms/9666...</td>\n",
              "      <td>Beet salad</td>\n",
              "      <td>259g</td>\n",
              "      <td>598</td>\n",
              "      <td>52g</td>\n",
              "      <td>18mg</td>\n",
              "      <td>577mg</td>\n",
              "      <td>11g</td>\n",
              "    </tr>\n",
              "    <tr>\n",
              "      <th>5996</th>\n",
              "      <td>drive/My Drive/Colab Notebooks/resizedIms/9791...</td>\n",
              "      <td>Beet salad</td>\n",
              "      <td>259g</td>\n",
              "      <td>598</td>\n",
              "      <td>52g</td>\n",
              "      <td>18mg</td>\n",
              "      <td>577mg</td>\n",
              "      <td>11g</td>\n",
              "    </tr>\n",
              "    <tr>\n",
              "      <th>5997</th>\n",
              "      <td>drive/My Drive/Colab Notebooks/resizedIms/9862...</td>\n",
              "      <td>Beet salad</td>\n",
              "      <td>259g</td>\n",
              "      <td>598</td>\n",
              "      <td>52g</td>\n",
              "      <td>18mg</td>\n",
              "      <td>577mg</td>\n",
              "      <td>11g</td>\n",
              "    </tr>\n",
              "    <tr>\n",
              "      <th>5998</th>\n",
              "      <td>drive/My Drive/Colab Notebooks/resizedIms/9864...</td>\n",
              "      <td>Beet salad</td>\n",
              "      <td>259g</td>\n",
              "      <td>598</td>\n",
              "      <td>52g</td>\n",
              "      <td>18mg</td>\n",
              "      <td>577mg</td>\n",
              "      <td>11g</td>\n",
              "    </tr>\n",
              "    <tr>\n",
              "      <th>5999</th>\n",
              "      <td>drive/My Drive/Colab Notebooks/resizedIms/9868...</td>\n",
              "      <td>Beet salad</td>\n",
              "      <td>259g</td>\n",
              "      <td>598</td>\n",
              "      <td>52g</td>\n",
              "      <td>18mg</td>\n",
              "      <td>577mg</td>\n",
              "      <td>11g</td>\n",
              "    </tr>\n",
              "  </tbody>\n",
              "</table>\n",
              "<p>6000 rows × 8 columns</p>\n",
              "</div>"
            ],
            "text/plain": [
              "                                                   File  ... Protein\n",
              "0     drive/My Drive/Colab Notebooks/resizedIms/1005...  ...    2.4g\n",
              "1     drive/My Drive/Colab Notebooks/resizedIms/1011...  ...    2.4g\n",
              "2     drive/My Drive/Colab Notebooks/resizedIms/1012...  ...    2.4g\n",
              "3     drive/My Drive/Colab Notebooks/resizedIms/1014...  ...    2.4g\n",
              "4     drive/My Drive/Colab Notebooks/resizedIms/1026...  ...    2.4g\n",
              "...                                                 ...  ...     ...\n",
              "5995  drive/My Drive/Colab Notebooks/resizedIms/9666...  ...     11g\n",
              "5996  drive/My Drive/Colab Notebooks/resizedIms/9791...  ...     11g\n",
              "5997  drive/My Drive/Colab Notebooks/resizedIms/9862...  ...     11g\n",
              "5998  drive/My Drive/Colab Notebooks/resizedIms/9864...  ...     11g\n",
              "5999  drive/My Drive/Colab Notebooks/resizedIms/9868...  ...     11g\n",
              "\n",
              "[6000 rows x 8 columns]"
            ]
          },
          "metadata": {
            "tags": []
          },
          "execution_count": 4
        }
      ]
    },
    {
      "cell_type": "code",
      "metadata": {
        "id": "EcMAXO5Z_kt5",
        "colab_type": "code",
        "colab": {}
      },
      "source": [
        "#comment this if we have already done it\n",
        "features = []\n",
        "for filename in df_partial.File:\n",
        "    im = imread(filename)\n",
        "    im = img_as_float(im)\n",
        "   \n",
        "    features.append( np.array(imread(filename)))\n",
        "\n",
        "features = np.array(features)"
      ],
      "execution_count": 0,
      "outputs": []
    },
    {
      "cell_type": "code",
      "metadata": {
        "id": "nn8vBBSzVobR",
        "colab_type": "code",
        "colab": {}
      },
      "source": [
        ""
      ],
      "execution_count": 0,
      "outputs": []
    },
    {
      "cell_type": "code",
      "metadata": {
        "id": "uCkvKUCB7Eqc",
        "colab_type": "code",
        "colab": {}
      },
      "source": [
        ""
      ],
      "execution_count": 0,
      "outputs": []
    },
    {
      "cell_type": "code",
      "metadata": {
        "id": "P9tJ69bU7Ev4",
        "colab_type": "code",
        "colab": {}
      },
      "source": [
        ""
      ],
      "execution_count": 0,
      "outputs": []
    },
    {
      "cell_type": "markdown",
      "metadata": {
        "id": "gvq99izRCno5",
        "colab_type": "text"
      },
      "source": [
        "Using a CNN to classify images"
      ]
    },
    {
      "cell_type": "code",
      "metadata": {
        "id": "vTj08lbp7Ezz",
        "colab_type": "code",
        "outputId": "5f00fbfa-c701-4357-f9fd-79551ab473ec",
        "colab": {
          "base_uri": "https://localhost:8080/",
          "height": 788
        }
      },
      "source": [
        "df_partial"
      ],
      "execution_count": 0,
      "outputs": [
        {
          "output_type": "execute_result",
          "data": {
            "text/html": [
              "<div>\n",
              "<style scoped>\n",
              "    .dataframe tbody tr th:only-of-type {\n",
              "        vertical-align: middle;\n",
              "    }\n",
              "\n",
              "    .dataframe tbody tr th {\n",
              "        vertical-align: top;\n",
              "    }\n",
              "\n",
              "    .dataframe thead th {\n",
              "        text-align: right;\n",
              "    }\n",
              "</style>\n",
              "<table border=\"1\" class=\"dataframe\">\n",
              "  <thead>\n",
              "    <tr style=\"text-align: right;\">\n",
              "      <th></th>\n",
              "      <th>File</th>\n",
              "      <th>Food</th>\n",
              "      <th>Serving</th>\n",
              "      <th>Calories</th>\n",
              "      <th>Total Fat</th>\n",
              "      <th>Cholesterol</th>\n",
              "      <th>Sodium</th>\n",
              "      <th>Protein</th>\n",
              "    </tr>\n",
              "  </thead>\n",
              "  <tbody>\n",
              "    <tr>\n",
              "      <th>0</th>\n",
              "      <td>drive/My Drive/Colab Notebooks/resizedIms/1005...</td>\n",
              "      <td>Apple Pie</td>\n",
              "      <td>125g</td>\n",
              "      <td>296</td>\n",
              "      <td>14g</td>\n",
              "      <td>0</td>\n",
              "      <td>251mg</td>\n",
              "      <td>2.4g</td>\n",
              "    </tr>\n",
              "    <tr>\n",
              "      <th>1</th>\n",
              "      <td>drive/My Drive/Colab Notebooks/resizedIms/1011...</td>\n",
              "      <td>Apple Pie</td>\n",
              "      <td>125g</td>\n",
              "      <td>296</td>\n",
              "      <td>14g</td>\n",
              "      <td>0</td>\n",
              "      <td>251mg</td>\n",
              "      <td>2.4g</td>\n",
              "    </tr>\n",
              "    <tr>\n",
              "      <th>2</th>\n",
              "      <td>drive/My Drive/Colab Notebooks/resizedIms/1012...</td>\n",
              "      <td>Apple Pie</td>\n",
              "      <td>125g</td>\n",
              "      <td>296</td>\n",
              "      <td>14g</td>\n",
              "      <td>0</td>\n",
              "      <td>251mg</td>\n",
              "      <td>2.4g</td>\n",
              "    </tr>\n",
              "    <tr>\n",
              "      <th>3</th>\n",
              "      <td>drive/My Drive/Colab Notebooks/resizedIms/1014...</td>\n",
              "      <td>Apple Pie</td>\n",
              "      <td>125g</td>\n",
              "      <td>296</td>\n",
              "      <td>14g</td>\n",
              "      <td>0</td>\n",
              "      <td>251mg</td>\n",
              "      <td>2.4g</td>\n",
              "    </tr>\n",
              "    <tr>\n",
              "      <th>4</th>\n",
              "      <td>drive/My Drive/Colab Notebooks/resizedIms/1026...</td>\n",
              "      <td>Apple Pie</td>\n",
              "      <td>125g</td>\n",
              "      <td>296</td>\n",
              "      <td>14g</td>\n",
              "      <td>0</td>\n",
              "      <td>251mg</td>\n",
              "      <td>2.4g</td>\n",
              "    </tr>\n",
              "    <tr>\n",
              "      <th>...</th>\n",
              "      <td>...</td>\n",
              "      <td>...</td>\n",
              "      <td>...</td>\n",
              "      <td>...</td>\n",
              "      <td>...</td>\n",
              "      <td>...</td>\n",
              "      <td>...</td>\n",
              "      <td>...</td>\n",
              "    </tr>\n",
              "    <tr>\n",
              "      <th>5995</th>\n",
              "      <td>drive/My Drive/Colab Notebooks/resizedIms/9666...</td>\n",
              "      <td>Beet salad</td>\n",
              "      <td>259g</td>\n",
              "      <td>598</td>\n",
              "      <td>52g</td>\n",
              "      <td>18mg</td>\n",
              "      <td>577mg</td>\n",
              "      <td>11g</td>\n",
              "    </tr>\n",
              "    <tr>\n",
              "      <th>5996</th>\n",
              "      <td>drive/My Drive/Colab Notebooks/resizedIms/9791...</td>\n",
              "      <td>Beet salad</td>\n",
              "      <td>259g</td>\n",
              "      <td>598</td>\n",
              "      <td>52g</td>\n",
              "      <td>18mg</td>\n",
              "      <td>577mg</td>\n",
              "      <td>11g</td>\n",
              "    </tr>\n",
              "    <tr>\n",
              "      <th>5997</th>\n",
              "      <td>drive/My Drive/Colab Notebooks/resizedIms/9862...</td>\n",
              "      <td>Beet salad</td>\n",
              "      <td>259g</td>\n",
              "      <td>598</td>\n",
              "      <td>52g</td>\n",
              "      <td>18mg</td>\n",
              "      <td>577mg</td>\n",
              "      <td>11g</td>\n",
              "    </tr>\n",
              "    <tr>\n",
              "      <th>5998</th>\n",
              "      <td>drive/My Drive/Colab Notebooks/resizedIms/9864...</td>\n",
              "      <td>Beet salad</td>\n",
              "      <td>259g</td>\n",
              "      <td>598</td>\n",
              "      <td>52g</td>\n",
              "      <td>18mg</td>\n",
              "      <td>577mg</td>\n",
              "      <td>11g</td>\n",
              "    </tr>\n",
              "    <tr>\n",
              "      <th>5999</th>\n",
              "      <td>drive/My Drive/Colab Notebooks/resizedIms/9868...</td>\n",
              "      <td>Beet salad</td>\n",
              "      <td>259g</td>\n",
              "      <td>598</td>\n",
              "      <td>52g</td>\n",
              "      <td>18mg</td>\n",
              "      <td>577mg</td>\n",
              "      <td>11g</td>\n",
              "    </tr>\n",
              "  </tbody>\n",
              "</table>\n",
              "<p>6000 rows × 8 columns</p>\n",
              "</div>"
            ],
            "text/plain": [
              "                                                   File  ... Protein\n",
              "0     drive/My Drive/Colab Notebooks/resizedIms/1005...  ...    2.4g\n",
              "1     drive/My Drive/Colab Notebooks/resizedIms/1011...  ...    2.4g\n",
              "2     drive/My Drive/Colab Notebooks/resizedIms/1012...  ...    2.4g\n",
              "3     drive/My Drive/Colab Notebooks/resizedIms/1014...  ...    2.4g\n",
              "4     drive/My Drive/Colab Notebooks/resizedIms/1026...  ...    2.4g\n",
              "...                                                 ...  ...     ...\n",
              "5995  drive/My Drive/Colab Notebooks/resizedIms/9666...  ...     11g\n",
              "5996  drive/My Drive/Colab Notebooks/resizedIms/9791...  ...     11g\n",
              "5997  drive/My Drive/Colab Notebooks/resizedIms/9862...  ...     11g\n",
              "5998  drive/My Drive/Colab Notebooks/resizedIms/9864...  ...     11g\n",
              "5999  drive/My Drive/Colab Notebooks/resizedIms/9868...  ...     11g\n",
              "\n",
              "[6000 rows x 8 columns]"
            ]
          },
          "metadata": {
            "tags": []
          },
          "execution_count": 22
        }
      ]
    },
    {
      "cell_type": "code",
      "metadata": {
        "id": "G1B9d3YBepXQ",
        "colab_type": "code",
        "colab": {}
      },
      "source": [
        ""
      ],
      "execution_count": 0,
      "outputs": []
    },
    {
      "cell_type": "code",
      "metadata": {
        "id": "uT29WBCJepXW",
        "colab_type": "code",
        "colab": {}
      },
      "source": [
        "'''\n",
        "from sklearn import preprocessing \n",
        "  \n",
        "# label_encoder object knows how to understand word labels. \n",
        "label_encoder = preprocessing.LabelEncoder() \n",
        "  \n",
        "# Encode labels in column 'species'. \n",
        "df_partial['Food']= label_encoder.fit_transform(df_partial['Food']) \n",
        "  \n",
        "y_unique = df_partial['Food'].unique() \n",
        "y = df_partial['Food']"
      ],
      "execution_count": 0,
      "outputs": []
    },
    {
      "cell_type": "code",
      "metadata": {
        "id": "5_Dyo4UgH5ta",
        "colab_type": "code",
        "colab": {}
      },
      "source": [
        "import pickle\n",
        "#we unpickle the features\n",
        "pickle_off = open(\"drive/My Drive/Colab Notebooks/features_pixels_partial.pickle\",\"rb\")\n",
        "features = pickle.load(pickle_off)"
      ],
      "execution_count": 0,
      "outputs": []
    },
    {
      "cell_type": "code",
      "metadata": {
        "id": "WudjpCQSepXb",
        "colab_type": "code",
        "outputId": "851bb9f8-507e-4bce-9dfb-3bec08fd8913",
        "colab": {
          "base_uri": "https://localhost:8080/",
          "height": 102
        }
      },
      "source": [
        "seed = 23\n",
        "from sklearn.model_selection import train_test_split\n",
        "# Split dataset\n",
        "\n",
        "from sklearn import preprocessing \n",
        "  \n",
        "# label_encoder object knows how to understand word labels. \n",
        "label_encoder = preprocessing.LabelEncoder() \n",
        "  \n",
        "# Encode labels in column 'species'. \n",
        "df_partial['Food']= label_encoder.fit_transform(df_partial['Food']) \n",
        "  \n",
        "y_unique = df_partial['Food'].unique() \n",
        "y = df_partial['Food']\n",
        "\n",
        "X_train, X_test, y_train, y_test = train_test_split(features, y, test_size=0.20, random_state=seed)\n",
        "\n",
        "print('Training set shape: {}'.format(X_train.shape))\n",
        "print('Test set shape: {}'.format(X_test.shape)) \n",
        "\n",
        "from keras.utils import to_categorical\n",
        "y_train_one_hot = to_categorical(y_train)\n",
        "y_test_one_hot = to_categorical(y_test)\n",
        "print('Training set shape: {}'.format(X_train.shape))\n",
        "print('Test set shape: {}'.format(X_test.shape))"
      ],
      "execution_count": 13,
      "outputs": [
        {
          "output_type": "stream",
          "text": [
            "Training set shape: (4800, 150, 150, 3)\n",
            "Test set shape: (1200, 150, 150, 3)\n"
          ],
          "name": "stdout"
        },
        {
          "output_type": "stream",
          "text": [
            "Using TensorFlow backend.\n"
          ],
          "name": "stderr"
        },
        {
          "output_type": "stream",
          "text": [
            "Training set shape: (4800, 150, 150, 3)\n",
            "Test set shape: (1200, 150, 150, 3)\n"
          ],
          "name": "stdout"
        }
      ]
    },
    {
      "cell_type": "code",
      "metadata": {
        "id": "WNGdaFbO6321",
        "colab_type": "code",
        "colab": {}
      },
      "source": [
        "#and now we build a model\n",
        "import tensorflow as tf\n",
        "model = tf.keras.models.Sequential([\n",
        "    # Note the input shape is the desired size of the image 300x300 with 3 bytes color\n",
        "    # This is the first convolution\n",
        "    tf.keras.layers.Conv2D(16, (3,3), activation='relu', input_shape=(150, 150, 3)),\n",
        "    tf.keras.layers.MaxPooling2D(2, 2),\n",
        "    # The second convolution\n",
        "    tf.keras.layers.Conv2D(32, (3,3), activation='relu'),\n",
        "    tf.keras.layers.MaxPooling2D(2,2),\n",
        "    # The third convolution\n",
        "    tf.keras.layers.Conv2D(64, (3,3), activation='relu'),\n",
        "    tf.keras.layers.MaxPooling2D(2,2),\n",
        "    # The fourth convolution\n",
        "    tf.keras.layers.Conv2D(64, (3,3), activation='relu'),\n",
        "    tf.keras.layers.MaxPooling2D(2,2),\n",
        "    # The fifth convolution\n",
        "    tf.keras.layers.Conv2D(64, (3,3), activation='relu'),\n",
        "    tf.keras.layers.MaxPooling2D(2,2),\n",
        "    # Flatten the results to feed into a Dense Layer\n",
        "    tf.keras.layers.Flatten(),\n",
        "    # 512 neuron hidden layer\n",
        "    tf.keras.layers.Dense(512, activation='relu'),\n",
        "   \n",
        "    tf.keras.layers.Dense(6, activation='sigmoid')\n",
        "])"
      ],
      "execution_count": 0,
      "outputs": []
    },
    {
      "cell_type": "code",
      "metadata": {
        "id": "y99FVYlHJNP4",
        "colab_type": "code",
        "colab": {}
      },
      "source": [
        "model.compile(loss='categorical_crossentropy', \n",
        "              optimizer='adam',\n",
        "              metrics=['accuracy'])"
      ],
      "execution_count": 0,
      "outputs": []
    },
    {
      "cell_type": "code",
      "metadata": {
        "id": "E-3hFfbZJNT6",
        "colab_type": "code",
        "colab": {
          "base_uri": "https://localhost:8080/",
          "height": 357
        },
        "outputId": "ef6a24fa-949c-4307-83fa-5574b116b42c"
      },
      "source": [
        "hist = model.fit(X_train, y_train_one_hot, \n",
        "batch_size=1, epochs=10, validation_split=0.3 )"
      ],
      "execution_count": 20,
      "outputs": [
        {
          "output_type": "stream",
          "text": [
            "Epoch 1/10\n",
            "3360/3360 [==============================] - 22s 7ms/step - loss: 8.6663 - accuracy: 0.1649 - val_loss: 8.4937 - val_accuracy: 0.1597\n",
            "Epoch 2/10\n",
            "3360/3360 [==============================] - 23s 7ms/step - loss: 8.6661 - accuracy: 0.1649 - val_loss: 8.4937 - val_accuracy: 0.1597\n",
            "Epoch 3/10\n",
            "3360/3360 [==============================] - 22s 7ms/step - loss: 8.6661 - accuracy: 0.1649 - val_loss: 8.4937 - val_accuracy: 0.1597\n",
            "Epoch 4/10\n",
            "3360/3360 [==============================] - 22s 7ms/step - loss: 8.6661 - accuracy: 0.1649 - val_loss: 8.4937 - val_accuracy: 0.1597\n",
            "Epoch 5/10\n",
            "3360/3360 [==============================] - 23s 7ms/step - loss: 8.6661 - accuracy: 0.1649 - val_loss: 8.4937 - val_accuracy: 0.1597\n",
            "Epoch 6/10\n",
            "3360/3360 [==============================] - 23s 7ms/step - loss: 8.6661 - accuracy: 0.1649 - val_loss: 8.4937 - val_accuracy: 0.1597\n",
            "Epoch 7/10\n",
            "3360/3360 [==============================] - 22s 7ms/step - loss: 8.6661 - accuracy: 0.1649 - val_loss: 8.4937 - val_accuracy: 0.1597\n",
            "Epoch 8/10\n",
            "3360/3360 [==============================] - 22s 7ms/step - loss: 8.6661 - accuracy: 0.1649 - val_loss: 8.4937 - val_accuracy: 0.1597\n",
            "Epoch 9/10\n",
            "3360/3360 [==============================] - 22s 7ms/step - loss: 8.6661 - accuracy: 0.1649 - val_loss: 8.4937 - val_accuracy: 0.1597\n",
            "Epoch 10/10\n",
            "3360/3360 [==============================] - 23s 7ms/step - loss: 8.6661 - accuracy: 0.1649 - val_loss: 8.4937 - val_accuracy: 0.1597\n"
          ],
          "name": "stdout"
        }
      ]
    },
    {
      "cell_type": "code",
      "metadata": {
        "id": "2m7JeuQsSLF3",
        "colab_type": "code",
        "colab": {
          "base_uri": "https://localhost:8080/",
          "height": 1000
        },
        "outputId": "e42b83c1-03ef-4938-8ab9-f330b8ee7e6a"
      },
      "source": [
        "#same model, more epochs\n",
        "hist = model.fit(X_train, y_train_one_hot, \n",
        "batch_size=1, epochs=40, validation_split=0.3 )"
      ],
      "execution_count": 28,
      "outputs": [
        {
          "output_type": "stream",
          "text": [
            "Epoch 1/40\n",
            "336/336 [==============================] - 5s 14ms/step - loss: 8.6665 - accuracy: 0.1649 - val_loss: 8.4936 - val_accuracy: 0.1597\n",
            "Epoch 2/40\n",
            "336/336 [==============================] - 5s 13ms/step - loss: 8.6665 - accuracy: 0.1649 - val_loss: 8.4936 - val_accuracy: 0.1597\n",
            "Epoch 3/40\n",
            "336/336 [==============================] - 4s 13ms/step - loss: 8.6665 - accuracy: 0.1649 - val_loss: 8.4936 - val_accuracy: 0.1597\n",
            "Epoch 4/40\n",
            "336/336 [==============================] - 4s 13ms/step - loss: 8.6665 - accuracy: 0.1649 - val_loss: 8.4936 - val_accuracy: 0.1597\n",
            "Epoch 5/40\n",
            "336/336 [==============================] - 5s 14ms/step - loss: 8.6665 - accuracy: 0.1649 - val_loss: 8.4936 - val_accuracy: 0.1597\n",
            "Epoch 6/40\n",
            "336/336 [==============================] - 5s 14ms/step - loss: 8.6665 - accuracy: 0.1649 - val_loss: 8.4936 - val_accuracy: 0.1597\n",
            "Epoch 7/40\n",
            "336/336 [==============================] - 5s 14ms/step - loss: 8.6665 - accuracy: 0.1649 - val_loss: 8.4936 - val_accuracy: 0.1597\n",
            "Epoch 8/40\n",
            "336/336 [==============================] - 5s 13ms/step - loss: 8.6665 - accuracy: 0.1649 - val_loss: 8.4936 - val_accuracy: 0.1597\n",
            "Epoch 9/40\n",
            "336/336 [==============================] - 5s 14ms/step - loss: 8.6665 - accuracy: 0.1649 - val_loss: 8.4936 - val_accuracy: 0.1597\n",
            "Epoch 10/40\n",
            "336/336 [==============================] - 4s 13ms/step - loss: 8.6665 - accuracy: 0.1649 - val_loss: 8.4936 - val_accuracy: 0.1597\n",
            "Epoch 11/40\n",
            "336/336 [==============================] - 5s 13ms/step - loss: 8.6665 - accuracy: 0.1649 - val_loss: 8.4936 - val_accuracy: 0.1597\n",
            "Epoch 12/40\n",
            "336/336 [==============================] - 5s 14ms/step - loss: 8.6665 - accuracy: 0.1649 - val_loss: 8.4936 - val_accuracy: 0.1597\n",
            "Epoch 13/40\n",
            "336/336 [==============================] - 5s 13ms/step - loss: 8.6665 - accuracy: 0.1649 - val_loss: 8.4936 - val_accuracy: 0.1597\n",
            "Epoch 14/40\n",
            "336/336 [==============================] - 4s 13ms/step - loss: 8.6665 - accuracy: 0.1649 - val_loss: 8.4936 - val_accuracy: 0.1597\n",
            "Epoch 15/40\n",
            "336/336 [==============================] - 5s 13ms/step - loss: 8.6665 - accuracy: 0.1649 - val_loss: 8.4936 - val_accuracy: 0.1597\n",
            "Epoch 16/40\n",
            "336/336 [==============================] - 5s 13ms/step - loss: 8.6665 - accuracy: 0.1649 - val_loss: 8.4936 - val_accuracy: 0.1597\n",
            "Epoch 17/40\n",
            "336/336 [==============================] - 5s 13ms/step - loss: 8.6665 - accuracy: 0.1649 - val_loss: 8.4936 - val_accuracy: 0.1597\n",
            "Epoch 18/40\n",
            "336/336 [==============================] - 5s 13ms/step - loss: 8.6665 - accuracy: 0.1649 - val_loss: 8.4936 - val_accuracy: 0.1597\n",
            "Epoch 19/40\n",
            "336/336 [==============================] - 5s 14ms/step - loss: 8.6665 - accuracy: 0.1649 - val_loss: 8.4936 - val_accuracy: 0.1597\n",
            "Epoch 20/40\n",
            "336/336 [==============================] - 5s 14ms/step - loss: 8.6665 - accuracy: 0.1649 - val_loss: 8.4936 - val_accuracy: 0.1597\n",
            "Epoch 21/40\n",
            "336/336 [==============================] - 4s 13ms/step - loss: 8.6665 - accuracy: 0.1649 - val_loss: 8.4936 - val_accuracy: 0.1597\n",
            "Epoch 22/40\n",
            "336/336 [==============================] - 4s 13ms/step - loss: 8.6665 - accuracy: 0.1649 - val_loss: 8.4936 - val_accuracy: 0.1597\n",
            "Epoch 23/40\n",
            "336/336 [==============================] - 5s 13ms/step - loss: 8.6665 - accuracy: 0.1649 - val_loss: 8.4936 - val_accuracy: 0.1597\n",
            "Epoch 24/40\n",
            "336/336 [==============================] - 4s 13ms/step - loss: 8.6665 - accuracy: 0.1649 - val_loss: 8.4936 - val_accuracy: 0.1597\n",
            "Epoch 25/40\n",
            "336/336 [==============================] - 5s 14ms/step - loss: 8.6665 - accuracy: 0.1649 - val_loss: 8.4936 - val_accuracy: 0.1597\n",
            "Epoch 26/40\n",
            "336/336 [==============================] - 4s 13ms/step - loss: 8.6665 - accuracy: 0.1649 - val_loss: 8.4936 - val_accuracy: 0.1597\n",
            "Epoch 27/40\n",
            "336/336 [==============================] - 4s 13ms/step - loss: 8.6665 - accuracy: 0.1649 - val_loss: 8.4936 - val_accuracy: 0.1597\n",
            "Epoch 28/40\n",
            "336/336 [==============================] - 4s 13ms/step - loss: 8.6665 - accuracy: 0.1649 - val_loss: 8.4936 - val_accuracy: 0.1597\n",
            "Epoch 29/40\n",
            "336/336 [==============================] - 4s 13ms/step - loss: 8.6665 - accuracy: 0.1649 - val_loss: 8.4936 - val_accuracy: 0.1597\n",
            "Epoch 30/40\n",
            "336/336 [==============================] - 4s 13ms/step - loss: 8.6665 - accuracy: 0.1649 - val_loss: 8.4936 - val_accuracy: 0.1597\n",
            "Epoch 31/40\n",
            "336/336 [==============================] - 5s 13ms/step - loss: 8.6665 - accuracy: 0.1649 - val_loss: 8.4936 - val_accuracy: 0.1597\n",
            "Epoch 32/40\n",
            "336/336 [==============================] - 5s 13ms/step - loss: 8.6665 - accuracy: 0.1649 - val_loss: 8.4936 - val_accuracy: 0.1597\n",
            "Epoch 33/40\n",
            "336/336 [==============================] - 5s 13ms/step - loss: 8.6665 - accuracy: 0.1649 - val_loss: 8.4936 - val_accuracy: 0.1597\n",
            "Epoch 34/40\n",
            "336/336 [==============================] - 5s 14ms/step - loss: 8.6665 - accuracy: 0.1649 - val_loss: 8.4936 - val_accuracy: 0.1597\n",
            "Epoch 35/40\n",
            "336/336 [==============================] - 5s 13ms/step - loss: 8.6665 - accuracy: 0.1649 - val_loss: 8.4936 - val_accuracy: 0.1597\n",
            "Epoch 36/40\n",
            "336/336 [==============================] - 4s 13ms/step - loss: 8.6665 - accuracy: 0.1649 - val_loss: 8.4936 - val_accuracy: 0.1597\n",
            "Epoch 37/40\n",
            "336/336 [==============================] - 4s 13ms/step - loss: 8.6665 - accuracy: 0.1649 - val_loss: 8.4936 - val_accuracy: 0.1597\n",
            "Epoch 38/40\n",
            "336/336 [==============================] - 4s 13ms/step - loss: 8.6665 - accuracy: 0.1649 - val_loss: 8.4936 - val_accuracy: 0.1597\n",
            "Epoch 39/40\n",
            "336/336 [==============================] - 4s 13ms/step - loss: 8.6665 - accuracy: 0.1649 - val_loss: 8.4936 - val_accuracy: 0.1597\n",
            "Epoch 40/40\n",
            "336/336 [==============================] - 4s 13ms/step - loss: 8.6665 - accuracy: 0.1649 - val_loss: 8.4936 - val_accuracy: 0.1597\n"
          ],
          "name": "stdout"
        }
      ]
    },
    {
      "cell_type": "code",
      "metadata": {
        "id": "-dG7O3r6JNY6",
        "colab_type": "code",
        "colab": {
          "base_uri": "https://localhost:8080/",
          "height": 51
        },
        "outputId": "6068e28c-2aa3-4dcf-a319-9f3c687673f8"
      },
      "source": [
        "model.evaluate(X_test, y_test_one_hot)[1]"
      ],
      "execution_count": 21,
      "outputs": [
        {
          "output_type": "stream",
          "text": [
            "38/38 [==============================] - 1s 16ms/step - loss: 8.5960 - accuracy: 0.1800\n"
          ],
          "name": "stdout"
        },
        {
          "output_type": "execute_result",
          "data": {
            "text/plain": [
              "0.18000000715255737"
            ]
          },
          "metadata": {
            "tags": []
          },
          "execution_count": 21
        }
      ]
    },
    {
      "cell_type": "code",
      "metadata": {
        "id": "ELBSfUFf6UNe",
        "colab_type": "code",
        "colab": {
          "base_uri": "https://localhost:8080/",
          "height": 51
        },
        "outputId": "1c2df52e-7c9b-4ae9-d77a-eb169f1e9f58"
      },
      "source": [
        "\n",
        "X_train1 = X_train.reshape(-1, 150,150, 1)\n",
        "X_test1 = X_test.reshape(-1, 150,150, 1)\n",
        "X_train1 = X_train.astype('float32')\n",
        "X_test1 = X_test.astype('float32')\n",
        "X_train1 = X_train1/255\n",
        "X_test1 = X_test1/255\n",
        "print('Training set shape: {}'.format(X_train1.shape))\n",
        "print('Test set shape: {}'.format(X_test1.shape))"
      ],
      "execution_count": 24,
      "outputs": [
        {
          "output_type": "stream",
          "text": [
            "Training set shape: (4800, 150, 150, 3)\n",
            "Test set shape: (1200, 150, 150, 3)\n"
          ],
          "name": "stdout"
        }
      ]
    },
    {
      "cell_type": "code",
      "metadata": {
        "id": "JG3bnavyepXf",
        "colab_type": "code",
        "colab": {}
      },
      "source": [
        "##Classification using a CNN\n",
        "\n",
        "from keras.models import Sequential\n",
        "from keras.layers import Dense, Flatten, Conv2D, MaxPooling2D\n",
        "model2 = Sequential()\n",
        "model2.add(Conv2D(3200, (2, 2), activation='relu', input_shape=(150,150,3)))\n",
        "model2.add(MaxPooling2D(pool_size=(5, 5)))\n",
        "\n",
        "model2.add(Conv2D(64, (5, 5), activation='relu'))\n",
        "model2.add(MaxPooling2D(pool_size=(2, 2)))\n",
        "model2.add(Flatten())\n",
        "model2.add(Dense(100, activation='relu'))\n",
        "#model.add(Dense(256, activation='relu'))\n",
        "model2.add(Dense(6, activation='softmax'))\n",
        "model2.compile(loss='categorical_crossentropy', \n",
        "              optimizer='adam',\n",
        "              metrics=['accuracy'])"
      ],
      "execution_count": 0,
      "outputs": []
    },
    {
      "cell_type": "code",
      "metadata": {
        "id": "sXof4q6n_5Ii",
        "colab_type": "code",
        "colab": {
          "base_uri": "https://localhost:8080/",
          "height": 374
        },
        "outputId": "af2a7c20-cc73-4c6c-abeb-68edd0e4270d"
      },
      "source": [
        "hist = model2.fit(X_train1, y_train_one_hot, \n",
        "batch_size=10, epochs=10, validation_split=0.3 )"
      ],
      "execution_count": 27,
      "outputs": [
        {
          "output_type": "stream",
          "text": [
            "Train on 3360 samples, validate on 1440 samples\n",
            "Epoch 1/10\n",
            "3360/3360 [==============================] - 182s 54ms/step - loss: 1.7918 - accuracy: 0.1696 - val_loss: 1.7918 - val_accuracy: 0.1708\n",
            "Epoch 2/10\n",
            "3360/3360 [==============================] - 180s 53ms/step - loss: 1.7918 - accuracy: 0.1696 - val_loss: 1.7919 - val_accuracy: 0.1708\n",
            "Epoch 3/10\n",
            "3360/3360 [==============================] - 179s 53ms/step - loss: 1.7918 - accuracy: 0.1696 - val_loss: 1.7919 - val_accuracy: 0.1708\n",
            "Epoch 4/10\n",
            "3360/3360 [==============================] - 179s 53ms/step - loss: 1.7918 - accuracy: 0.1696 - val_loss: 1.7920 - val_accuracy: 0.1708\n",
            "Epoch 5/10\n",
            "3360/3360 [==============================] - 179s 53ms/step - loss: 1.7918 - accuracy: 0.1696 - val_loss: 1.7920 - val_accuracy: 0.1708\n",
            "Epoch 6/10\n",
            "3360/3360 [==============================] - 179s 53ms/step - loss: 1.7918 - accuracy: 0.1670 - val_loss: 1.7921 - val_accuracy: 0.1708\n",
            "Epoch 7/10\n",
            "3360/3360 [==============================] - 180s 54ms/step - loss: 1.7919 - accuracy: 0.1696 - val_loss: 1.7922 - val_accuracy: 0.1708\n",
            "Epoch 8/10\n",
            "3360/3360 [==============================] - 180s 53ms/step - loss: 1.7919 - accuracy: 0.1503 - val_loss: 1.7922 - val_accuracy: 0.1708\n",
            "Epoch 9/10\n",
            "3360/3360 [==============================] - 180s 53ms/step - loss: 1.7918 - accuracy: 0.1565 - val_loss: 1.7922 - val_accuracy: 0.1708\n",
            "Epoch 10/10\n",
            "3360/3360 [==============================] - 180s 53ms/step - loss: 1.7919 - accuracy: 0.1625 - val_loss: 1.7922 - val_accuracy: 0.1639\n"
          ],
          "name": "stdout"
        }
      ]
    },
    {
      "cell_type": "code",
      "metadata": {
        "id": "VUc3wnbRWqxf",
        "colab_type": "code",
        "colab": {
          "base_uri": "https://localhost:8080/",
          "height": 573
        },
        "outputId": "ae2a5379-35ca-4028-a1b0-113696d2ad27"
      },
      "source": [
        "#Visualize the models accuracy\n",
        "plt.plot(hist.history['accuracy'])\n",
        "plt.plot(hist.history['val_accuracy'])\n",
        "plt.title('Model accuracy')\n",
        "plt.ylabel('Accuracy')\n",
        "plt.xlabel('Epoch')\n",
        "plt.legend(['Train', 'Val'], loc='upper left')\n",
        "plt.show()\n",
        "#Visualize the models loss\n",
        "plt.plot(hist.history['loss'])\n",
        "plt.plot(hist.history['val_loss'])\n",
        "plt.title('Model loss')\n",
        "plt.ylabel('Loss')\n",
        "plt.xlabel('Epoch')\n",
        "plt.legend(['Train', 'Val'], loc='upper right')\n",
        "plt.show()"
      ],
      "execution_count": 29,
      "outputs": [
        {
          "output_type": "display_data",
          "data": {
            "image/png": "[encoded data removed]",
            "text/plain": [
              "<Figure size 432x288 with 1 Axes>"
            ]
          },
          "metadata": {
            "tags": [],
            "needs_background": "light"
          }
        },
        {
          "output_type": "display_data",
          "data": {
            "image/png": "[encoded data removed]",
            "text/plain": [
              "<Figure size 432x288 with 1 Axes>"
            ]
          },
          "metadata": {
            "tags": [],
            "needs_background": "light"
          }
        }
      ]
    },
    {
      "cell_type": "code",
      "metadata": {
        "id": "HKmXHRqgAG34",
        "colab_type": "code",
        "colab": {}
      },
      "source": [
        "'''\n",
        "hist = model2.fit(X_train1, y_train_one_hot, \n",
        "batch_size=10, epochs=40, validation_split=0.3 )"
      ],
      "execution_count": 0,
      "outputs": []
    },
    {
      "cell_type": "code",
      "metadata": {
        "id": "1sL64XjjepY_",
        "colab_type": "code",
        "colab": {}
      },
      "source": [
        "\n",
        "from keras.models import Sequential\n",
        "from keras.layers import Dense, Flatten, Conv2D, MaxPooling2D\n",
        "#simpler model\n",
        "model3 = Sequential()\n",
        "model3.add(Conv2D(64, (2, 2), activation='relu', input_shape=(150,150,3)))\n",
        "model3.add(MaxPooling2D(pool_size=(5, 5)))\n",
        "\n",
        "#model2.add(Conv2D(64, (5, 5), activation='relu'))\n",
        "#model2.add(MaxPooling2D(pool_size=(2, 2)))\n",
        "model3.add(Flatten())\n",
        "model3.add(Dense(100, activation='relu'))\n",
        "#model.add(Dense(256, activation='relu'))\n",
        "model3.add(Dense(6, activation='softmax'))\n"
      ],
      "execution_count": 0,
      "outputs": []
    },
    {
      "cell_type": "code",
      "metadata": {
        "id": "H8oYWo7jguzD",
        "colab_type": "code",
        "colab": {}
      },
      "source": [
        "model3.compile(loss='categorical_crossentropy', \n",
        "              optimizer='adam',\n",
        "              metrics=['accuracy'])"
      ],
      "execution_count": 0,
      "outputs": []
    },
    {
      "cell_type": "code",
      "metadata": {
        "id": "uX5iPyfWepZd",
        "colab_type": "code",
        "colab": {
          "base_uri": "https://localhost:8080/",
          "height": 374
        },
        "outputId": "6e5e1486-0d29-4d44-efa3-2eec394c8d72"
      },
      "source": [
        "hist3 = model2.fit(X_train, y_train_one_hot, \n",
        "batch_size=10, epochs=10, validation_split=0.3 )"
      ],
      "execution_count": 34,
      "outputs": [
        {
          "output_type": "stream",
          "text": [
            "Train on 3360 samples, validate on 1440 samples\n",
            "Epoch 1/10\n",
            "3360/3360 [==============================] - 181s 54ms/step - loss: 2.9228 - accuracy: 0.1634 - val_loss: 1.7921 - val_accuracy: 0.1639\n",
            "Epoch 2/10\n",
            "3360/3360 [==============================] - 181s 54ms/step - loss: 1.7944 - accuracy: 0.1628 - val_loss: 1.7923 - val_accuracy: 0.1639\n",
            "Epoch 3/10\n",
            "3360/3360 [==============================] - 180s 54ms/step - loss: 1.7919 - accuracy: 0.1664 - val_loss: 1.7922 - val_accuracy: 0.1708\n",
            "Epoch 4/10\n",
            "3360/3360 [==============================] - 180s 54ms/step - loss: 1.7918 - accuracy: 0.1664 - val_loss: 1.7922 - val_accuracy: 0.1639\n",
            "Epoch 5/10\n",
            "3360/3360 [==============================] - 180s 54ms/step - loss: 1.7919 - accuracy: 0.1658 - val_loss: 1.7923 - val_accuracy: 0.1632\n",
            "Epoch 6/10\n",
            "3360/3360 [==============================] - 180s 54ms/step - loss: 1.7919 - accuracy: 0.1607 - val_loss: 1.7922 - val_accuracy: 0.1604\n",
            "Epoch 7/10\n",
            "3360/3360 [==============================] - 180s 54ms/step - loss: 1.7919 - accuracy: 0.1652 - val_loss: 1.7922 - val_accuracy: 0.1632\n",
            "Epoch 8/10\n",
            "3360/3360 [==============================] - 180s 54ms/step - loss: 1.7919 - accuracy: 0.1628 - val_loss: 1.7923 - val_accuracy: 0.1632\n",
            "Epoch 9/10\n",
            "3360/3360 [==============================] - 180s 54ms/step - loss: 1.7919 - accuracy: 0.1595 - val_loss: 1.7923 - val_accuracy: 0.1708\n",
            "Epoch 10/10\n",
            "3360/3360 [==============================] - 180s 54ms/step - loss: 1.7919 - accuracy: 0.1607 - val_loss: 1.7923 - val_accuracy: 0.1708\n"
          ],
          "name": "stdout"
        }
      ]
    },
    {
      "cell_type": "code",
      "metadata": {
        "id": "G0X96hfES5CF",
        "colab_type": "code",
        "outputId": "ce24f37f-1f3a-4ff2-8e9e-e09dfc08146e",
        "colab": {
          "base_uri": "https://localhost:8080/",
          "height": 51
        }
      },
      "source": [
        "model3.evaluate(X_test, y_test_one_hot)[1]"
      ],
      "execution_count": 35,
      "outputs": [
        {
          "output_type": "stream",
          "text": [
            "1200/1200 [==============================] - 1s 752us/step\n"
          ],
          "name": "stdout"
        },
        {
          "output_type": "execute_result",
          "data": {
            "text/plain": [
              "0.18416666984558105"
            ]
          },
          "metadata": {
            "tags": []
          },
          "execution_count": 35
        }
      ]
    },
    {
      "cell_type": "markdown",
      "metadata": {
        "id": "4EmijSZNEi5B",
        "colab_type": "text"
      },
      "source": [
        ""
      ]
    },
    {
      "cell_type": "code",
      "metadata": {
        "id": "PiklP6a97E6Q",
        "colab_type": "code",
        "colab": {}
      },
      "source": [
        "'''\n",
        "import tensorflow as tf \n",
        "import tflearn \n",
        "from tflearn.layers.conv import conv_2d, max_pool_2d \n",
        "from tflearn.layers.core import input_data, dropout, fully_connected \n",
        "from tflearn.layers.estimator import regression \n",
        "convnet = input_data(shape =[None, 150, 150, 1], name ='input') \n",
        "convnet = conv_2d(convnet, 32, 5, activation ='relu') \n",
        "convnet = max_pool_2d(convnet, 5) \n",
        "  \n",
        "convnet = conv_2d(convnet, 64, 5, activation ='relu') \n",
        "convnet = max_pool_2d(convnet, 5) \n",
        "  \n",
        "convnet = conv_2d(convnet, 128, 5, activation ='relu') \n",
        "convnet = max_pool_2d(convnet, 5) \n",
        "  \n",
        "convnet = conv_2d(convnet, 64, 5, activation ='relu') \n",
        "convnet = max_pool_2d(convnet, 5) \n",
        "  \n",
        "convnet = conv_2d(convnet, 32, 5, activation ='relu') \n",
        "convnet = max_pool_2d(convnet, 5) \n",
        "  \n",
        "convnet = fully_connected(convnet, 1024, activation ='relu') \n",
        "convnet = dropout(convnet, 0.8) \n",
        "  \n",
        "convnet = fully_connected(convnet, 2, activation ='softmax') \n",
        "convnet = regression(convnet, optimizer ='adam', learning_rate = LR, \n",
        "      loss ='categorical_crossentropy', name ='targets') \n",
        "  \n",
        "model = tflearn.DNN(convnet, tensorboard_dir ='log') "
      ],
      "execution_count": 0,
      "outputs": []
    },
    {
      "cell_type": "code",
      "metadata": {
        "id": "BFXqZnlV7E48",
        "colab_type": "code",
        "colab": {}
      },
      "source": [
        "import keras\n",
        "from keras.models import Sequential,Input,Model\n",
        "from keras.layers import Dense, Dropout, Flatten\n",
        "from keras.layers import Conv2D, MaxPooling2D\n",
        "from keras.layers.normalization import BatchNormalization\n",
        "from keras.layers.advanced_activations import LeakyReLU\n",
        "num_classes = 6\n",
        "fashion_model = Sequential()\n",
        "fashion_model.add(Conv2D(32, kernel_size=(3, 3),activation='linear',input_shape=(150,150,3),padding='same'))\n",
        "fashion_model.add(LeakyReLU(alpha=0.1))\n",
        "fashion_model.add(MaxPooling2D((2, 2),padding='same'))\n",
        "fashion_model.add(Conv2D(64, (3, 3), activation='linear',padding='same'))\n",
        "fashion_model.add(LeakyReLU(alpha=0.1))\n",
        "fashion_model.add(MaxPooling2D(pool_size=(2, 2),padding='same'))\n",
        "fashion_model.add(Conv2D(128, (3, 3), activation='linear',padding='same'))\n",
        "fashion_model.add(LeakyReLU(alpha=0.1))                  \n",
        "fashion_model.add(MaxPooling2D(pool_size=(2, 2),padding='same'))\n",
        "fashion_model.add(Flatten())\n",
        "fashion_model.add(Dense(128, activation='linear'))\n",
        "fashion_model.add(LeakyReLU(alpha=0.1))                  \n",
        "fashion_model.add(Dense(num_classes, activation='softmax'))\n",
        "\n",
        "fashion_model.compile(loss='categorical_crossentropy', \n",
        "              optimizer='adam',\n",
        "              metrics=['accuracy'])\n",
        "fashion_model.summary()\n",
        "hist = fashion_model.fit(X_train1, y_train_one_hot, \n",
        "batch_size=1, epochs=10, validation_split=0.3)"
      ],
      "execution_count": 0,
      "outputs": []
    },
    {
      "cell_type": "code",
      "metadata": {
        "id": "Y5wZU2qz7EuF",
        "colab_type": "code",
        "colab": {
          "base_uri": "https://localhost:8080/",
          "height": 51
        },
        "outputId": "62451860-0053-4ffb-f68b-961aa7c71718"
      },
      "source": [
        "fashion_model.evaluate(X_test, y_test_one_hot)[1]"
      ],
      "execution_count": 21,
      "outputs": [
        {
          "output_type": "stream",
          "text": [
            "1200/1200 [==============================] - 1s 556us/step\n"
          ],
          "name": "stdout"
        },
        {
          "output_type": "execute_result",
          "data": {
            "text/plain": [
              "0.15333333611488342"
            ]
          },
          "metadata": {
            "tags": []
          },
          "execution_count": 21
        }
      ]
    },
    {
      "cell_type": "markdown",
      "metadata": {
        "id": "NmmQaEt3U9uP",
        "colab_type": "text"
      },
      "source": [
        ""
      ]
    },
    {
      "cell_type": "code",
      "metadata": {
        "id": "vH4DjZUjU968",
        "colab_type": "code",
        "colab": {}
      },
      "source": [
        "#some reshaping\n",
        "X_train = X_train.reshape(-1, 150,150, 1)\n",
        "X_test = X_test.reshape(-1, 150,150, 1)\n",
        "X_train = X_train.astype('float32')\n",
        "X_test = X_test.astype('float32')\n",
        "X_train = X_train / 255.\n",
        "X_test = X_test / 255.\n",
        "train_Y_one_hot = to_categorical(y_train)\n",
        "test_Y_one_hot = to_categorical(y_test)"
      ],
      "execution_count": 0,
      "outputs": []
    },
    {
      "cell_type": "code",
      "metadata": {
        "id": "wqvgGedvN2hX",
        "colab_type": "code",
        "colab": {}
      },
      "source": [
        "from sklearn.model_selection import train_test_split\n",
        "#train_X,valid_X,train_label,valid_label = train_test_split(features, y, test_size=0.2, random_state=13)\n",
        "fashion_train = fashion_model.fit(X_train, train_Y_one_hot, batch_size=2,epochs=20,verbose=1,validation_data=(X_test, test_Y_one_hot))"
      ],
      "execution_count": 0,
      "outputs": []
    },
    {
      "cell_type": "code",
      "metadata": {
        "id": "igIorGxQOwwA",
        "colab_type": "code",
        "colab": {}
      },
      "source": [
        ""
      ],
      "execution_count": 0,
      "outputs": []
    },
    {
      "cell_type": "code",
      "metadata": {
        "id": "bbdjb7HxOw0E",
        "colab_type": "code",
        "colab": {}
      },
      "source": [
        ""
      ],
      "execution_count": 0,
      "outputs": []
    },
    {
      "cell_type": "code",
      "metadata": {
        "id": "w6ddHUSbleBL",
        "colab_type": "code",
        "colab": {
          "base_uri": "https://localhost:8080/",
          "height": 51
        },
        "outputId": "ea7d46a2-2f66-4883-e523-516ea057bf75"
      },
      "source": [
        "\n",
        "\n",
        "# Display the change for category label using one-hot encoding\n",
        "print('Original label:', train_Y[0])\n",
        "print('After conversion to one-hot:', train_Y_one_hot[0])"
      ],
      "execution_count": 134,
      "outputs": [
        {
          "output_type": "stream",
          "text": [
            "Original label: 9\n",
            "After conversion to one-hot: [1. 0. 0. 0. 0. 0.]\n"
          ],
          "name": "stdout"
        }
      ]
    },
    {
      "cell_type": "code",
      "metadata": {
        "id": "GXsPH_vnOw4Q",
        "colab_type": "code",
        "colab": {}
      },
      "source": [
        ""
      ],
      "execution_count": 0,
      "outputs": []
    },
    {
      "cell_type": "code",
      "metadata": {
        "id": "9927YFolmGrH",
        "colab_type": "code",
        "colab": {}
      },
      "source": [
        "fashion_model.compile(loss=keras.losses.categorical_crossentropy, optimizer=keras.optimizers.Adam(),metrics=['accuracy'])"
      ],
      "execution_count": 0,
      "outputs": []
    },
    {
      "cell_type": "code",
      "metadata": {
        "id": "vNQOKxXzmGxV",
        "colab_type": "code",
        "colab": {
          "base_uri": "https://localhost:8080/",
          "height": 595
        },
        "outputId": "ceaf3c25-c258-4a7f-a3f8-71f871063ca2"
      },
      "source": [
        "fashion_model.summary()"
      ],
      "execution_count": 33,
      "outputs": [
        {
          "output_type": "stream",
          "text": [
            "Model: \"sequential_4\"\n",
            "_________________________________________________________________\n",
            "Layer (type)                 Output Shape              Param #   \n",
            "=================================================================\n",
            "conv2d_9 (Conv2D)            (None, 150, 150, 32)      320       \n",
            "_________________________________________________________________\n",
            "leaky_re_lu_9 (LeakyReLU)    (None, 150, 150, 32)      0         \n",
            "_________________________________________________________________\n",
            "max_pooling2d_9 (MaxPooling2 (None, 75, 75, 32)        0         \n",
            "_________________________________________________________________\n",
            "conv2d_10 (Conv2D)           (None, 75, 75, 64)        18496     \n",
            "_________________________________________________________________\n",
            "leaky_re_lu_10 (LeakyReLU)   (None, 75, 75, 64)        0         \n",
            "_________________________________________________________________\n",
            "max_pooling2d_10 (MaxPooling (None, 38, 38, 64)        0         \n",
            "_________________________________________________________________\n",
            "conv2d_11 (Conv2D)           (None, 38, 38, 128)       73856     \n",
            "_________________________________________________________________\n",
            "leaky_re_lu_11 (LeakyReLU)   (None, 38, 38, 128)       0         \n",
            "_________________________________________________________________\n",
            "max_pooling2d_11 (MaxPooling (None, 19, 19, 128)       0         \n",
            "_________________________________________________________________\n",
            "flatten_4 (Flatten)          (None, 46208)             0         \n",
            "_________________________________________________________________\n",
            "dense_7 (Dense)              (None, 128)               5914752   \n",
            "_________________________________________________________________\n",
            "leaky_re_lu_12 (LeakyReLU)   (None, 128)               0         \n",
            "_________________________________________________________________\n",
            "dense_8 (Dense)              (None, 5)                 645       \n",
            "=================================================================\n",
            "Total params: 6,008,069\n",
            "Trainable params: 6,008,069\n",
            "Non-trainable params: 0\n",
            "_________________________________________________________________\n"
          ],
          "name": "stdout"
        }
      ]
    },
    {
      "cell_type": "code",
      "metadata": {
        "id": "kZ77TXkgmGvx",
        "colab_type": "code",
        "colab": {
          "base_uri": "https://localhost:8080/",
          "height": 164
        },
        "outputId": "828252ec-4185-4267-bc8b-0e24fdf8544e"
      },
      "source": [
        ""
      ],
      "execution_count": 34,
      "outputs": [
        {
          "output_type": "error",
          "ename": "NameError",
          "evalue": "ignored",
          "traceback": [
            "\u001b[0;31m---------------------------------------------------------------------------\u001b[0m",
            "\u001b[0;31mNameError\u001b[0m                                 Traceback (most recent call last)",
            "\u001b[0;32m<ipython-input-34-0525a6fd5fd5>\u001b[0m in \u001b[0;36m<module>\u001b[0;34m()\u001b[0m\n\u001b[0;32m----> 1\u001b[0;31m \u001b[0mfashion_train\u001b[0m \u001b[0;34m=\u001b[0m \u001b[0mfashion_model\u001b[0m\u001b[0;34m.\u001b[0m\u001b[0mfit\u001b[0m\u001b[0;34m(\u001b[0m\u001b[0mX_train\u001b[0m\u001b[0;34m,\u001b[0m \u001b[0my_train\u001b[0m\u001b[0;34m,\u001b[0m \u001b[0mbatch_size\u001b[0m\u001b[0;34m=\u001b[0m\u001b[0mbatch_size\u001b[0m\u001b[0;34m,\u001b[0m\u001b[0mepochs\u001b[0m\u001b[0;34m=\u001b[0m\u001b[0mepochs\u001b[0m\u001b[0;34m,\u001b[0m\u001b[0mverbose\u001b[0m\u001b[0;34m=\u001b[0m\u001b[0;36m1\u001b[0m\u001b[0;34m,\u001b[0m\u001b[0mvalidation_data\u001b[0m\u001b[0;34m=\u001b[0m\u001b[0;34m(\u001b[0m\u001b[0mX_test\u001b[0m\u001b[0;34m,\u001b[0m \u001b[0mtest_Y_one_hot\u001b[0m\u001b[0;34m)\u001b[0m\u001b[0;34m)\u001b[0m\u001b[0;34m\u001b[0m\u001b[0;34m\u001b[0m\u001b[0m\n\u001b[0m",
            "\u001b[0;31mNameError\u001b[0m: name 'test_Y_one_hot' is not defined"
          ]
        }
      ]
    },
    {
      "cell_type": "code",
      "metadata": {
        "id": "SMMMYzCUmGtl",
        "colab_type": "code",
        "colab": {
          "base_uri": "https://localhost:8080/",
          "height": 170
        },
        "outputId": "d043cff0-1578-4491-8e24-2b7e0dc8613b"
      },
      "source": [
        "df_partial.loc[5999]\n"
      ],
      "execution_count": 30,
      "outputs": [
        {
          "output_type": "execute_result",
          "data": {
            "text/plain": [
              "File           drive/My Drive/Colab Notebooks/resizedIms/9868...\n",
              "Food                                                           5\n",
              "Serving                                                     259g\n",
              "Calories                                                     598\n",
              "Total Fat                                                    52g\n",
              "Cholesterol                                                 18mg\n",
              "Sodium                                                     577mg\n",
              "Protein                                                      11g\n",
              "Name: 5999, dtype: object"
            ]
          },
          "metadata": {
            "tags": []
          },
          "execution_count": 30
        }
      ]
    },
    {
      "cell_type": "code",
      "metadata": {
        "id": "WHKAUjSwor02",
        "colab_type": "code",
        "colab": {
          "base_uri": "https://localhost:8080/",
          "height": 375
        },
        "outputId": "c1d49840-0aa7-42d3-c15c-4533eb0f15c8"
      },
      "source": [
        ""
      ],
      "execution_count": 165,
      "outputs": [
        {
          "output_type": "stream",
          "text": [
            "Original label: 0\n",
            "After conversion to one-hot: [1. 0. 0. 0. 0. 0.]\n"
          ],
          "name": "stdout"
        },
        {
          "output_type": "error",
          "ename": "ValueError",
          "evalue": "ignored",
          "traceback": [
            "\u001b[0;31m---------------------------------------------------------------------------\u001b[0m",
            "\u001b[0;31mValueError\u001b[0m                                Traceback (most recent call last)",
            "\u001b[0;32m<ipython-input-165-94dee1c7e6b7>\u001b[0m in \u001b[0;36m<module>\u001b[0;34m()\u001b[0m\n\u001b[1;32m     21\u001b[0m \u001b[0;32mfrom\u001b[0m \u001b[0msklearn\u001b[0m\u001b[0;34m.\u001b[0m\u001b[0mmodel_selection\u001b[0m \u001b[0;32mimport\u001b[0m \u001b[0mtrain_test_split\u001b[0m\u001b[0;34m\u001b[0m\u001b[0;34m\u001b[0m\u001b[0m\n\u001b[1;32m     22\u001b[0m \u001b[0;31m#train_X,valid_X,train_label,valid_label = train_test_split(train_X, train_Y_one_hot, test_size=0.2, random_state=13)\u001b[0m\u001b[0;34m\u001b[0m\u001b[0;34m\u001b[0m\u001b[0;34m\u001b[0m\u001b[0m\n\u001b[0;32m---> 23\u001b[0;31m \u001b[0mtrain_X\u001b[0m\u001b[0;34m,\u001b[0m\u001b[0mvalid_X\u001b[0m\u001b[0;34m,\u001b[0m\u001b[0mtrain_label\u001b[0m\u001b[0;34m,\u001b[0m\u001b[0mvalid_label\u001b[0m \u001b[0;34m=\u001b[0m \u001b[0mtrain_test_split\u001b[0m\u001b[0;34m(\u001b[0m\u001b[0mtrain_X\u001b[0m\u001b[0;34m,\u001b[0m \u001b[0mtrain_Y_one_hot\u001b[0m\u001b[0;34m,\u001b[0m \u001b[0mtest_size\u001b[0m\u001b[0;34m=\u001b[0m\u001b[0;36m0.2\u001b[0m\u001b[0;34m,\u001b[0m \u001b[0mrandom_state\u001b[0m\u001b[0;34m=\u001b[0m\u001b[0;36m13\u001b[0m\u001b[0;34m)\u001b[0m\u001b[0;34m\u001b[0m\u001b[0;34m\u001b[0m\u001b[0m\n\u001b[0m",
            "\u001b[0;32m/usr/local/lib/python3.6/dist-packages/sklearn/model_selection/_split.py\u001b[0m in \u001b[0;36mtrain_test_split\u001b[0;34m(*arrays, **options)\u001b[0m\n\u001b[1;32m   2116\u001b[0m         \u001b[0;32mraise\u001b[0m \u001b[0mTypeError\u001b[0m\u001b[0;34m(\u001b[0m\u001b[0;34m\"Invalid parameters passed: %s\"\u001b[0m \u001b[0;34m%\u001b[0m \u001b[0mstr\u001b[0m\u001b[0;34m(\u001b[0m\u001b[0moptions\u001b[0m\u001b[0;34m)\u001b[0m\u001b[0;34m)\u001b[0m\u001b[0;34m\u001b[0m\u001b[0;34m\u001b[0m\u001b[0m\n\u001b[1;32m   2117\u001b[0m \u001b[0;34m\u001b[0m\u001b[0m\n\u001b[0;32m-> 2118\u001b[0;31m     \u001b[0marrays\u001b[0m \u001b[0;34m=\u001b[0m \u001b[0mindexable\u001b[0m\u001b[0;34m(\u001b[0m\u001b[0;34m*\u001b[0m\u001b[0marrays\u001b[0m\u001b[0;34m)\u001b[0m\u001b[0;34m\u001b[0m\u001b[0;34m\u001b[0m\u001b[0m\n\u001b[0m\u001b[1;32m   2119\u001b[0m \u001b[0;34m\u001b[0m\u001b[0m\n\u001b[1;32m   2120\u001b[0m     \u001b[0mn_samples\u001b[0m \u001b[0;34m=\u001b[0m \u001b[0m_num_samples\u001b[0m\u001b[0;34m(\u001b[0m\u001b[0marrays\u001b[0m\u001b[0;34m[\u001b[0m\u001b[0;36m0\u001b[0m\u001b[0;34m]\u001b[0m\u001b[0;34m)\u001b[0m\u001b[0;34m\u001b[0m\u001b[0;34m\u001b[0m\u001b[0m\n",
            "\u001b[0;32m/usr/local/lib/python3.6/dist-packages/sklearn/utils/validation.py\u001b[0m in \u001b[0;36mindexable\u001b[0;34m(*iterables)\u001b[0m\n\u001b[1;32m    246\u001b[0m     \"\"\"\n\u001b[1;32m    247\u001b[0m     \u001b[0mresult\u001b[0m \u001b[0;34m=\u001b[0m \u001b[0;34m[\u001b[0m\u001b[0m_make_indexable\u001b[0m\u001b[0;34m(\u001b[0m\u001b[0mX\u001b[0m\u001b[0;34m)\u001b[0m \u001b[0;32mfor\u001b[0m \u001b[0mX\u001b[0m \u001b[0;32min\u001b[0m \u001b[0miterables\u001b[0m\u001b[0;34m]\u001b[0m\u001b[0;34m\u001b[0m\u001b[0;34m\u001b[0m\u001b[0m\n\u001b[0;32m--> 248\u001b[0;31m     \u001b[0mcheck_consistent_length\u001b[0m\u001b[0;34m(\u001b[0m\u001b[0;34m*\u001b[0m\u001b[0mresult\u001b[0m\u001b[0;34m)\u001b[0m\u001b[0;34m\u001b[0m\u001b[0;34m\u001b[0m\u001b[0m\n\u001b[0m\u001b[1;32m    249\u001b[0m     \u001b[0;32mreturn\u001b[0m \u001b[0mresult\u001b[0m\u001b[0;34m\u001b[0m\u001b[0;34m\u001b[0m\u001b[0m\n\u001b[1;32m    250\u001b[0m \u001b[0;34m\u001b[0m\u001b[0m\n",
            "\u001b[0;32m/usr/local/lib/python3.6/dist-packages/sklearn/utils/validation.py\u001b[0m in \u001b[0;36mcheck_consistent_length\u001b[0;34m(*arrays)\u001b[0m\n\u001b[1;32m    210\u001b[0m     \u001b[0;32mif\u001b[0m \u001b[0mlen\u001b[0m\u001b[0;34m(\u001b[0m\u001b[0muniques\u001b[0m\u001b[0;34m)\u001b[0m \u001b[0;34m>\u001b[0m \u001b[0;36m1\u001b[0m\u001b[0;34m:\u001b[0m\u001b[0;34m\u001b[0m\u001b[0;34m\u001b[0m\u001b[0m\n\u001b[1;32m    211\u001b[0m         raise ValueError(\"Found input variables with inconsistent numbers of\"\n\u001b[0;32m--> 212\u001b[0;31m                          \" samples: %r\" % [int(l) for l in lengths])\n\u001b[0m\u001b[1;32m    213\u001b[0m \u001b[0;34m\u001b[0m\u001b[0m\n\u001b[1;32m    214\u001b[0m \u001b[0;34m\u001b[0m\u001b[0m\n",
            "\u001b[0;31mValueError\u001b[0m: Found input variables with inconsistent numbers of samples: [14400, 4800]"
          ]
        }
      ]
    },
    {
      "cell_type": "code",
      "metadata": {
        "id": "c3SZodJNosFH",
        "colab_type": "code",
        "colab": {}
      },
      "source": [
        ""
      ],
      "execution_count": 0,
      "outputs": []
    },
    {
      "cell_type": "code",
      "metadata": {
        "id": "Tb7USeFrosHk",
        "colab_type": "code",
        "colab": {}
      },
      "source": [
        "fashion_model.compile(loss=keras.losses.categorical_crossentropy, optimizer=keras.optimizers.Adam(),metrics=['accuracy'])"
      ],
      "execution_count": 0,
      "outputs": []
    },
    {
      "cell_type": "code",
      "metadata": {
        "id": "KioYJX4NosDW",
        "colab_type": "code",
        "colab": {
          "base_uri": "https://localhost:8080/",
          "height": 595
        },
        "outputId": "6c82a870-ab4c-457a-f0d8-0f7f8ce5ddaa"
      },
      "source": [
        "fashion_model.summary()"
      ],
      "execution_count": 161,
      "outputs": [
        {
          "output_type": "stream",
          "text": [
            "Model: \"sequential_44\"\n",
            "_________________________________________________________________\n",
            "Layer (type)                 Output Shape              Param #   \n",
            "=================================================================\n",
            "conv2d_113 (Conv2D)          (None, 150, 150, 32)      320       \n",
            "_________________________________________________________________\n",
            "leaky_re_lu_49 (LeakyReLU)   (None, 150, 150, 32)      0         \n",
            "_________________________________________________________________\n",
            "max_pooling2d_85 (MaxPooling (None, 75, 75, 32)        0         \n",
            "_________________________________________________________________\n",
            "conv2d_114 (Conv2D)          (None, 75, 75, 64)        18496     \n",
            "_________________________________________________________________\n",
            "leaky_re_lu_50 (LeakyReLU)   (None, 75, 75, 64)        0         \n",
            "_________________________________________________________________\n",
            "max_pooling2d_86 (MaxPooling (None, 38, 38, 64)        0         \n",
            "_________________________________________________________________\n",
            "conv2d_115 (Conv2D)          (None, 38, 38, 128)       73856     \n",
            "_________________________________________________________________\n",
            "leaky_re_lu_51 (LeakyReLU)   (None, 38, 38, 128)       0         \n",
            "_________________________________________________________________\n",
            "max_pooling2d_87 (MaxPooling (None, 19, 19, 128)       0         \n",
            "_________________________________________________________________\n",
            "flatten_27 (Flatten)         (None, 46208)             0         \n",
            "_________________________________________________________________\n",
            "dense_67 (Dense)             (None, 128)               5914752   \n",
            "_________________________________________________________________\n",
            "leaky_re_lu_52 (LeakyReLU)   (None, 128)               0         \n",
            "_________________________________________________________________\n",
            "dense_68 (Dense)             (None, 6)                 774       \n",
            "=================================================================\n",
            "Total params: 6,008,198\n",
            "Trainable params: 6,008,198\n",
            "Non-trainable params: 0\n",
            "_________________________________________________________________\n"
          ],
          "name": "stdout"
        }
      ]
    },
    {
      "cell_type": "code",
      "metadata": {
        "id": "CI2Bqfx8osCR",
        "colab_type": "code",
        "colab": {
          "base_uri": "https://localhost:8080/",
          "height": 307
        },
        "outputId": "6f6f4546-1f6c-48dd-cd4a-fe9f52b038a8"
      },
      "source": [
        ""
      ],
      "execution_count": 162,
      "outputs": [
        {
          "output_type": "error",
          "ename": "ValueError",
          "evalue": "ignored",
          "traceback": [
            "\u001b[0;31m---------------------------------------------------------------------------\u001b[0m",
            "\u001b[0;31mValueError\u001b[0m                                Traceback (most recent call last)",
            "\u001b[0;32m<ipython-input-162-e0b1dc3710d5>\u001b[0m in \u001b[0;36m<module>\u001b[0;34m()\u001b[0m\n\u001b[0;32m----> 1\u001b[0;31m \u001b[0mfashion_train\u001b[0m \u001b[0;34m=\u001b[0m \u001b[0mfashion_model\u001b[0m\u001b[0;34m.\u001b[0m\u001b[0mfit\u001b[0m\u001b[0;34m(\u001b[0m\u001b[0mtrain_X\u001b[0m\u001b[0;34m,\u001b[0m \u001b[0mtrain_Y_one_hot\u001b[0m\u001b[0;34m,\u001b[0m \u001b[0mbatch_size\u001b[0m\u001b[0;34m=\u001b[0m\u001b[0mbatch_size\u001b[0m\u001b[0;34m,\u001b[0m\u001b[0mepochs\u001b[0m\u001b[0;34m=\u001b[0m\u001b[0mepochs\u001b[0m\u001b[0;34m,\u001b[0m\u001b[0mverbose\u001b[0m\u001b[0;34m=\u001b[0m\u001b[0;36m1\u001b[0m\u001b[0;34m,\u001b[0m\u001b[0mvalidation_data\u001b[0m\u001b[0;34m=\u001b[0m\u001b[0;34m(\u001b[0m\u001b[0mvalid_X\u001b[0m\u001b[0;34m,\u001b[0m \u001b[0mtest_Y_one_hot\u001b[0m\u001b[0;34m)\u001b[0m\u001b[0;34m)\u001b[0m\u001b[0;34m\u001b[0m\u001b[0;34m\u001b[0m\u001b[0m\n\u001b[0m",
            "\u001b[0;32m/usr/local/lib/python3.6/dist-packages/keras/engine/training.py\u001b[0m in \u001b[0;36mfit\u001b[0;34m(self, x, y, batch_size, epochs, verbose, callbacks, validation_split, validation_data, shuffle, class_weight, sample_weight, initial_epoch, steps_per_epoch, validation_steps, validation_freq, max_queue_size, workers, use_multiprocessing, **kwargs)\u001b[0m\n\u001b[1;32m   1152\u001b[0m             \u001b[0msample_weight\u001b[0m\u001b[0;34m=\u001b[0m\u001b[0msample_weight\u001b[0m\u001b[0;34m,\u001b[0m\u001b[0;34m\u001b[0m\u001b[0;34m\u001b[0m\u001b[0m\n\u001b[1;32m   1153\u001b[0m             \u001b[0mclass_weight\u001b[0m\u001b[0;34m=\u001b[0m\u001b[0mclass_weight\u001b[0m\u001b[0;34m,\u001b[0m\u001b[0;34m\u001b[0m\u001b[0;34m\u001b[0m\u001b[0m\n\u001b[0;32m-> 1154\u001b[0;31m             batch_size=batch_size)\n\u001b[0m\u001b[1;32m   1155\u001b[0m \u001b[0;34m\u001b[0m\u001b[0m\n\u001b[1;32m   1156\u001b[0m         \u001b[0;31m# Prepare validation data.\u001b[0m\u001b[0;34m\u001b[0m\u001b[0;34m\u001b[0m\u001b[0;34m\u001b[0m\u001b[0m\n",
            "\u001b[0;32m/usr/local/lib/python3.6/dist-packages/keras/engine/training.py\u001b[0m in \u001b[0;36m_standardize_user_data\u001b[0;34m(self, x, y, sample_weight, class_weight, check_array_lengths, batch_size)\u001b[0m\n\u001b[1;32m    635\u001b[0m             \u001b[0;31m# Check that all arrays have the same length.\u001b[0m\u001b[0;34m\u001b[0m\u001b[0;34m\u001b[0m\u001b[0;34m\u001b[0m\u001b[0m\n\u001b[1;32m    636\u001b[0m             \u001b[0;32mif\u001b[0m \u001b[0mcheck_array_lengths\u001b[0m\u001b[0;34m:\u001b[0m\u001b[0;34m\u001b[0m\u001b[0;34m\u001b[0m\u001b[0m\n\u001b[0;32m--> 637\u001b[0;31m                 \u001b[0mtraining_utils\u001b[0m\u001b[0;34m.\u001b[0m\u001b[0mcheck_array_length_consistency\u001b[0m\u001b[0;34m(\u001b[0m\u001b[0mx\u001b[0m\u001b[0;34m,\u001b[0m \u001b[0my\u001b[0m\u001b[0;34m,\u001b[0m \u001b[0msample_weights\u001b[0m\u001b[0;34m)\u001b[0m\u001b[0;34m\u001b[0m\u001b[0;34m\u001b[0m\u001b[0m\n\u001b[0m\u001b[1;32m    638\u001b[0m             \u001b[0;32mif\u001b[0m \u001b[0mself\u001b[0m\u001b[0;34m.\u001b[0m\u001b[0m_is_graph_network\u001b[0m\u001b[0;34m:\u001b[0m\u001b[0;34m\u001b[0m\u001b[0;34m\u001b[0m\u001b[0m\n\u001b[1;32m    639\u001b[0m                 \u001b[0;31m# Additional checks to avoid users mistakenly\u001b[0m\u001b[0;34m\u001b[0m\u001b[0;34m\u001b[0m\u001b[0;34m\u001b[0m\u001b[0m\n",
            "\u001b[0;32m/usr/local/lib/python3.6/dist-packages/keras/engine/training_utils.py\u001b[0m in \u001b[0;36mcheck_array_length_consistency\u001b[0;34m(inputs, targets, weights)\u001b[0m\n\u001b[1;32m    242\u001b[0m                          \u001b[0;34m'the same number of samples as target arrays. '\u001b[0m\u001b[0;34m\u001b[0m\u001b[0;34m\u001b[0m\u001b[0m\n\u001b[1;32m    243\u001b[0m                          \u001b[0;34m'Found '\u001b[0m \u001b[0;34m+\u001b[0m \u001b[0mstr\u001b[0m\u001b[0;34m(\u001b[0m\u001b[0mlist\u001b[0m\u001b[0;34m(\u001b[0m\u001b[0mset_x\u001b[0m\u001b[0;34m)\u001b[0m\u001b[0;34m[\u001b[0m\u001b[0;36m0\u001b[0m\u001b[0;34m]\u001b[0m\u001b[0;34m)\u001b[0m \u001b[0;34m+\u001b[0m \u001b[0;34m' input samples '\u001b[0m\u001b[0;34m\u001b[0m\u001b[0;34m\u001b[0m\u001b[0m\n\u001b[0;32m--> 244\u001b[0;31m                          'and ' + str(list(set_y)[0]) + ' target samples.')\n\u001b[0m\u001b[1;32m    245\u001b[0m     \u001b[0;32mif\u001b[0m \u001b[0mlen\u001b[0m\u001b[0;34m(\u001b[0m\u001b[0mset_w\u001b[0m\u001b[0;34m)\u001b[0m \u001b[0;34m>\u001b[0m \u001b[0;36m1\u001b[0m\u001b[0;34m:\u001b[0m\u001b[0;34m\u001b[0m\u001b[0;34m\u001b[0m\u001b[0m\n\u001b[1;32m    246\u001b[0m         raise ValueError('All sample_weight arrays should have '\n",
            "\u001b[0;31mValueError\u001b[0m: Input arrays should have the same number of samples as target arrays. Found 14400 input samples and 4800 target samples."
          ]
        }
      ]
    },
    {
      "cell_type": "code",
      "metadata": {
        "id": "-6Yag_41toG-",
        "colab_type": "code",
        "colab": {
          "base_uri": "https://localhost:8080/",
          "height": 34
        },
        "outputId": "6fa6ba0a-a44a-4a88-a46f-f88753d8422a"
      },
      "source": [
        ""
      ],
      "execution_count": 164,
      "outputs": [
        {
          "output_type": "execute_result",
          "data": {
            "text/plain": [
              "(4800, 6)"
            ]
          },
          "metadata": {
            "tags": []
          },
          "execution_count": 164
        }
      ]
    },
    {
      "cell_type": "code",
      "metadata": {
        "id": "1p_StDJ8or-m",
        "colab_type": "code",
        "colab": {
          "base_uri": "https://localhost:8080/",
          "height": 51
        },
        "outputId": "d44bcbc1-2210-49af-d1c5-2271e0d2b33d"
      },
      "source": [
        "test_eval = fashion_model.evaluate(test_X, test_Y_one_hot, verbose=0)\n",
        "print('Test loss:', test_eval[0])\n",
        "print('Test accuracy:', test_eval[1])"
      ],
      "execution_count": 142,
      "outputs": [
        {
          "output_type": "stream",
          "text": [
            "Test loss: 0.48823452875092627\n",
            "Test accuracy: 0.9168000221252441\n"
          ],
          "name": "stdout"
        }
      ]
    },
    {
      "cell_type": "code",
      "metadata": {
        "id": "2wMjrt2nor8P",
        "colab_type": "code",
        "colab": {
          "base_uri": "https://localhost:8080/",
          "height": 136
        },
        "outputId": "485fb928-2b2b-4229-f3ff-4bb15f3d775e"
      },
      "source": [
        ""
      ],
      "execution_count": 150,
      "outputs": [
        {
          "output_type": "execute_result",
          "data": {
            "text/plain": [
              "array([[0., 1., 0., ..., 0., 0., 0.],\n",
              "       [0., 0., 0., ..., 0., 0., 0.],\n",
              "       [0., 0., 0., ..., 0., 1., 0.],\n",
              "       ...,\n",
              "       [0., 0., 0., ..., 0., 0., 1.],\n",
              "       [0., 0., 0., ..., 0., 0., 0.],\n",
              "       [0., 0., 0., ..., 0., 0., 0.]], dtype=float32)"
            ]
          },
          "metadata": {
            "tags": []
          },
          "execution_count": 150
        }
      ]
    },
    {
      "cell_type": "code",
      "metadata": {
        "id": "KXT6EqIqor6N",
        "colab_type": "code",
        "colab": {
          "base_uri": "https://localhost:8080/",
          "height": 341
        },
        "outputId": "f5d740bd-ea00-4c59-d56e-3581dbd5209d"
      },
      "source": [
        ""
      ],
      "execution_count": 39,
      "outputs": [
        {
          "output_type": "error",
          "ename": "AttributeError",
          "evalue": "ignored",
          "traceback": [
            "\u001b[0;31m---------------------------------------------------------------------------\u001b[0m",
            "\u001b[0;31mAttributeError\u001b[0m                            Traceback (most recent call last)",
            "\u001b[0;32m<ipython-input-39-6169b5139933>\u001b[0m in \u001b[0;36m<module>\u001b[0;34m()\u001b[0m\n\u001b[1;32m     63\u001b[0m         \u001b[0mprint\u001b[0m\u001b[0;34m(\u001b[0m\u001b[0;34m'Accuracy:'\u001b[0m\u001b[0;34m,\u001b[0m\u001b[0maccuracy\u001b[0m\u001b[0;34m.\u001b[0m\u001b[0meval\u001b[0m\u001b[0;34m(\u001b[0m\u001b[0;34m{\u001b[0m\u001b[0mx\u001b[0m\u001b[0;34m:\u001b[0m\u001b[0mmnist\u001b[0m\u001b[0;34m.\u001b[0m\u001b[0mtest\u001b[0m\u001b[0;34m.\u001b[0m\u001b[0mimages\u001b[0m\u001b[0;34m,\u001b[0m \u001b[0my\u001b[0m\u001b[0;34m:\u001b[0m\u001b[0mmnist\u001b[0m\u001b[0;34m.\u001b[0m\u001b[0mtest\u001b[0m\u001b[0;34m.\u001b[0m\u001b[0mlabels\u001b[0m\u001b[0;34m}\u001b[0m\u001b[0;34m)\u001b[0m\u001b[0;34m)\u001b[0m\u001b[0;34m\u001b[0m\u001b[0;34m\u001b[0m\u001b[0m\n\u001b[1;32m     64\u001b[0m \u001b[0;34m\u001b[0m\u001b[0m\n\u001b[0;32m---> 65\u001b[0;31m \u001b[0mtrain_neural_network\u001b[0m\u001b[0;34m(\u001b[0m\u001b[0mx\u001b[0m\u001b[0;34m)\u001b[0m\u001b[0;34m\u001b[0m\u001b[0;34m\u001b[0m\u001b[0m\n\u001b[0m",
            "\u001b[0;32m<ipython-input-39-6169b5139933>\u001b[0m in \u001b[0;36mtrain_neural_network\u001b[0;34m(x)\u001b[0m\n\u001b[1;32m     41\u001b[0m \u001b[0;34m\u001b[0m\u001b[0m\n\u001b[1;32m     42\u001b[0m \u001b[0;32mdef\u001b[0m \u001b[0mtrain_neural_network\u001b[0m\u001b[0;34m(\u001b[0m\u001b[0mx\u001b[0m\u001b[0;34m)\u001b[0m\u001b[0;34m:\u001b[0m\u001b[0;34m\u001b[0m\u001b[0;34m\u001b[0m\u001b[0m\n\u001b[0;32m---> 43\u001b[0;31m     \u001b[0mprediction\u001b[0m \u001b[0;34m=\u001b[0m \u001b[0mneural_network_model\u001b[0m\u001b[0;34m(\u001b[0m\u001b[0mx\u001b[0m\u001b[0;34m)\u001b[0m\u001b[0;34m\u001b[0m\u001b[0;34m\u001b[0m\u001b[0m\n\u001b[0m\u001b[1;32m     44\u001b[0m     \u001b[0mcost\u001b[0m \u001b[0;34m=\u001b[0m \u001b[0mtf\u001b[0m\u001b[0;34m.\u001b[0m\u001b[0mreduce_mean\u001b[0m\u001b[0;34m(\u001b[0m \u001b[0mtf\u001b[0m\u001b[0;34m.\u001b[0m\u001b[0mnn\u001b[0m\u001b[0;34m.\u001b[0m\u001b[0msoftmax_cross_entropy_with_logits\u001b[0m\u001b[0;34m(\u001b[0m\u001b[0mprediction\u001b[0m\u001b[0;34m,\u001b[0m\u001b[0my\u001b[0m\u001b[0;34m)\u001b[0m \u001b[0;34m)\u001b[0m\u001b[0;34m\u001b[0m\u001b[0;34m\u001b[0m\u001b[0m\n\u001b[1;32m     45\u001b[0m     \u001b[0moptimizer\u001b[0m \u001b[0;34m=\u001b[0m \u001b[0mtf\u001b[0m\u001b[0;34m.\u001b[0m\u001b[0mtrain\u001b[0m\u001b[0;34m.\u001b[0m\u001b[0mAdamOptimizer\u001b[0m\u001b[0;34m(\u001b[0m\u001b[0;34m)\u001b[0m\u001b[0;34m.\u001b[0m\u001b[0mminimize\u001b[0m\u001b[0;34m(\u001b[0m\u001b[0mcost\u001b[0m\u001b[0;34m)\u001b[0m\u001b[0;34m\u001b[0m\u001b[0;34m\u001b[0m\u001b[0m\n",
            "\u001b[0;32m<ipython-input-39-6169b5139933>\u001b[0m in \u001b[0;36mneural_network_model\u001b[0;34m(data)\u001b[0m\n\u001b[1;32m     14\u001b[0m \u001b[0;34m\u001b[0m\u001b[0m\n\u001b[1;32m     15\u001b[0m \u001b[0;32mdef\u001b[0m \u001b[0mneural_network_model\u001b[0m\u001b[0;34m(\u001b[0m\u001b[0mdata\u001b[0m\u001b[0;34m)\u001b[0m\u001b[0;34m:\u001b[0m\u001b[0;34m\u001b[0m\u001b[0;34m\u001b[0m\u001b[0m\n\u001b[0;32m---> 16\u001b[0;31m     hidden_1_layer = {'weights':tf.Variable(tf.random_normal([784, n_nodes_hl1])),\n\u001b[0m\u001b[1;32m     17\u001b[0m                       'biases':tf.Variable(tf.random_normal([n_nodes_hl1]))}\n\u001b[1;32m     18\u001b[0m \u001b[0;34m\u001b[0m\u001b[0m\n",
            "\u001b[0;31mAttributeError\u001b[0m: module 'tensorflow' has no attribute 'random_normal'"
          ]
        }
      ]
    },
    {
      "cell_type": "code",
      "metadata": {
        "id": "Ui7ZkZTDor3s",
        "colab_type": "code",
        "colab": {}
      },
      "source": [
        ""
      ],
      "execution_count": 0,
      "outputs": []
    }
  ]
}